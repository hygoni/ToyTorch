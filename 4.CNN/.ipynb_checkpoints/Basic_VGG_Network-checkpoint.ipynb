{
  "nbformat": 4,
  "nbformat_minor": 0,
  "metadata": {
    "kernelspec": {
      "display_name": "Python 3",
      "language": "python",
      "name": "python3"
    },
    "language_info": {
      "codemirror_mode": {
        "name": "ipython",
        "version": 3
      },
      "file_extension": ".py",
      "mimetype": "text/x-python",
      "name": "python",
      "nbconvert_exporter": "python",
      "pygments_lexer": "ipython3",
      "version": "3.6.8"
    },
    "colab": {
      "name": "Basic_VGG_Network-checkpoint.ipynb",
      "version": "0.3.2",
      "provenance": []
    }
  },
  "cells": [
    {
      "cell_type": "code",
      "metadata": {
        "id": "ozQXvZDOyAOb",
        "colab_type": "code",
        "colab": {}
      },
      "source": [
        "import torch\n",
        "import torch.optim as optim\n",
        "import torch.nn as nn"
      ],
      "execution_count": 0,
      "outputs": []
    },
    {
      "cell_type": "markdown",
      "metadata": {
        "id": "AOrVvZl_x4FV",
        "colab_type": "text"
      },
      "source": [
        "## Building Model"
      ]
    },
    {
      "cell_type": "code",
      "metadata": {
        "id": "ltfv4ryrx2Au",
        "colab_type": "code",
        "colab": {}
      },
      "source": [
        "class VGG_D(nn.Module):\n",
        "    def __init__(self, base_size, num_classes):\n",
        "        super(VGG_D, self).__init__()\n",
        "        self.convLayer = nn.Sequential(\n",
        "            conv_2_block(3, base_size), # 3 : color channels\n",
        "            conv_2_block(base_size, 2 * base_size),\n",
        "            conv_3_block(2 * base_size, 4 * base_size),\n",
        "            conv_3_block(4 * base_size, 8 * base_size),\n",
        "            conv_3_block(8 * base_size, 8 * base_size)\n",
        "        )\n",
        "        \n",
        "        self.fcLayer = nn.Sequential(\n",
        "            nn.Linear(8 * base_dim * 7 * 7, 100), #? 7 * 7??\n",
        "            nn.ReLU(),\n",
        "            nn.Linear(100, 20),\n",
        "            nn.ReLU(),\n",
        "            nn.Linear(20, num_classes)\n",
        "        )\n",
        "        \n",
        "    def forward(self, x):\n",
        "        x = self.convLayer(x)\n",
        "        x = x.view(x.size(0), -1)\n",
        "        x = self.fcLayer(x)\n",
        "        return x\n",
        "    \n",
        "    def conv_3_block(in_size, out_size):\n",
        "        \n",
        "        model = nn.Sequential(\n",
        "            nn.Conv2d(in_size, out_size, kernel_size = 3, padding = 1),\n",
        "            nn.ReLU(),\n",
        "            nn.Conv2d(out_size, out_size, kernel_size = 3, padding = 1),\n",
        "            nn.ReLU(),\n",
        "            nn.MaxPool2d(2)\n",
        "        )\n",
        "        return model\n",
        "          \n",
        "    def conv_2_block():\n",
        "        \n",
        "        model = nn.Sequential(\n",
        "            nn.Conv2d(in_size, out_size, kernel_size = 3, padding = 1),\n",
        "            nn.ReLU(),\n",
        "            nn.Conv2d(in_size, out_size, kernel_size = 3, padding = 1),\n",
        "            nn.ReLU(),\n",
        "            nn.Conv2d(in_size, out_size, kernel_size = 3, padding = 1),\n",
        "            nn.ReLU(),\n",
        "            nn.MaxPool2d()\n",
        "        )\n",
        "        return model"
      ],
      "execution_count": 0,
      "outputs": []
    },
    {
      "cell_type": "code",
      "metadata": {
        "id": "CiAygdPhx3pu",
        "colab_type": "code",
        "colab": {}
      },
      "source": [
        ""
      ],
      "execution_count": 0,
      "outputs": []
    }
  ]
}