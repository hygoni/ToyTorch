{
 "cells": [
  {
   "cell_type": "code",
   "execution_count": 1,
   "metadata": {},
   "outputs": [],
   "source": [
    "import torch\n",
    "import torch.nn as nn\n",
    "import torch.optim as optim\n",
    "import numpy as np"
   ]
  },
  {
   "cell_type": "code",
   "execution_count": 40,
   "metadata": {},
   "outputs": [],
   "source": [
    "chars = \"ABCDEFGHIJKLMNOPQRSTUVWXYZ ?.',[]\" #[ : Start, ] : End\n",
    "toRemember = \"I'M RNN, NICE TO MEET YOU!\"\n",
    "\n",
    "def to_one_hot(word):\n",
    "    start_token = [0] * len(chars)\n",
    "    start_token[-2] = 1\n",
    "    start_token = np.array(start_token)\n",
    "    end_token = [0] * len(chars)\n",
    "    end_token[-1] = 1\n",
    "    end_token = np.array(end_token)\n",
    "    \n",
    "    out = start_token\n",
    "    \n",
    "    for ch in word:\n",
    "        tmp = [0] * len(chars)\n",
    "        tmp[chars.index(ch)] = 1\n",
    "        out = np.vstack([out, tmp])\n",
    "    out = np.vstack([out, end_token])\n",
    "    return out\n",
    "    \n",
    "def to_letter(one_hot):\n",
    "    string = ''\n",
    "    for i in range(len(one_hot)):\n",
    "        if i != 0 and i != len(one_hot) - 1:\n",
    "            index = one_hot[i].argmax()\n",
    "            string += chars[index]\n",
    "    return string"
   ]
  },
  {
   "cell_type": "code",
   "execution_count": 41,
   "metadata": {},
   "outputs": [
    {
     "data": {
      "text/plain": [
       "'HELLO'"
      ]
     },
     "execution_count": 41,
     "metadata": {},
     "output_type": "execute_result"
    }
   ],
   "source": [
    "one_hot = to_one_hot('HELLO')\n",
    "to_letter(one_hot)"
   ]
  },
  {
   "cell_type": "code",
   "execution_count": 51,
   "metadata": {},
   "outputs": [],
   "source": [
    "class RNN(nn.Module):\n",
    "    def __init__(self, in_size, hid_size, out_size):\n",
    "        super(RNN, self).__init__()\n",
    "        self.in_size = in_size\n",
    "        self.hid_size = hid_size\n",
    "        self.out_size = out_size\n",
    "        \n",
    "        self.i2h = nn.Linear(in_size, hid_size)\n",
    "        self.h2h = nn.Linear(hid_size, hid_size)\n",
    "        self.h2o = nn.Linear(hid_size, out_size)\n",
    "        self.activation = nn.ELU()\n",
    "        \n",
    "    def forward(self, x, prev): #?? Don't get it a little\n",
    "        prev = self.activation(self.i2h(x) + self.h2h(prev))\n",
    "        out = self.i2o(prev)\n",
    "        return out, prev\n",
    "    def first_prev(self):\n",
    "        return torch.zeros(1, self.hid_size)"
   ]
  },
  {
   "cell_type": "code",
   "execution_count": 45,
   "metadata": {},
   "outputs": [],
   "source": [
    "net = RNN(len(chars), 100, len(chars))"
   ]
  },
  {
   "cell_type": "code",
   "execution_count": 46,
   "metadata": {},
   "outputs": [
    {
     "data": {
      "text/plain": [
       "RNN(\n",
       "  (i2h): Linear(in_features=33, out_features=100, bias=True)\n",
       "  (h2h): Linear(in_features=100, out_features=100, bias=True)\n",
       "  (h2o): Linear(in_features=100, out_features=33, bias=True)\n",
       "  (activation): ELU(alpha=1.0)\n",
       ")"
      ]
     },
     "execution_count": 46,
     "metadata": {},
     "output_type": "execute_result"
    }
   ],
   "source": [
    "net"
   ]
  },
  {
   "cell_type": "code",
   "execution_count": 49,
   "metadata": {},
   "outputs": [],
   "source": [
    "get_loss = nn.MSELoss()\n",
    "optimizer = optim.Adam(net.parameters(), lr = 0.01)"
   ]
  },
  {
   "cell_type": "code",
   "execution_count": 50,
   "metadata": {},
   "outputs": [],
   "source": [
    "n_epoch = 100\n",
    "for epoch in range(n_epoch):\n",
    "    optimizer.zero_grad()\n",
    "    hidden = net.first_prev()\n",
    "    \n",
    "    "
   ]
  }
 ],
 "metadata": {
  "kernelspec": {
   "display_name": "Python 3",
   "language": "python",
   "name": "python3"
  },
  "language_info": {
   "codemirror_mode": {
    "name": "ipython",
    "version": 3
   },
   "file_extension": ".py",
   "mimetype": "text/x-python",
   "name": "python",
   "nbconvert_exporter": "python",
   "pygments_lexer": "ipython3",
   "version": "3.6.8"
  }
 },
 "nbformat": 4,
 "nbformat_minor": 2
}
