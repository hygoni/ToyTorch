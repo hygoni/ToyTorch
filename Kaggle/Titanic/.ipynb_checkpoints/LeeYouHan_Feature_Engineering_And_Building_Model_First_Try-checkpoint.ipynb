{
 "cells": [
  {
   "cell_type": "code",
   "execution_count": null,
   "metadata": {},
   "outputs": [],
   "source": [
    "import numpy as np\n",
    "import pandas as pd\n",
    "from pandas import Series\n",
    "import matplotlib.pyplot as plt\n",
    "import seaborn as sns\n",
    "plt.style.use('seaborn')\n",
    "sns.set(font_scale=2.5)\n",
    "\n",
    "import plotly.offline as py\n",
    "py.init_notebook_mode(connected=True)\n",
    "import plotly.graph_objs as go\n",
    "import plotly.tools as tls\n",
    "\n",
    "import warnings\n",
    "warnings.filterwarnings('ignore')\n",
    "%matplotlib inline\n",
    "encodings = []\n",
    "def number_encoding(df, list_col, print_map=True):\n",
    "    global encodings\n",
    "    for col in list_col:\n",
    "        dict_map = {}\n",
    "        i = 0\n",
    "        for idx in sorted(df[col].unique()):\n",
    "            dict_map[idx] = i\n",
    "            i += 1\n",
    "        df[col] = df[col].map(dict_map)\n",
    "        \n",
    "        if print_map:\n",
    "            print(dict_map)\n",
    "        encodings += [dict_map]\n",
    "        \n",
    "train = pd.read_csv('./data/train.csv')\n",
    "test = pd.read_csv('./data/test.csv')"
   ]
  },
  {
   "cell_type": "code",
   "execution_count": null,
   "metadata": {},
   "outputs": [],
   "source": [
    "train['Family'] = train['SibSp'] + train['Parch'] + 1\n",
    "test['Family'] = test['SibSp'] + test['Parch'] + 1\n",
    "\n",
    "test.loc[test.Fare.isnull(), 'Fare'] = test['Fare'].mean()\n",
    "train.loc[train.Fare.isnull(), 'Fare'] = train['Fare'].mean()\n",
    "\n",
    "train['Fare'] = train['Fare'].map(lambda x: np.log(x) if x > 0 else 0)\n",
    "test['Fare'] = test['Fare'].map(lambda x: np.log(x) if x > 0 else 0)"
   ]
  },
  {
   "cell_type": "code",
   "execution_count": null,
   "metadata": {},
   "outputs": [],
   "source": [
    "test.head()"
   ]
  },
  {
   "cell_type": "markdown",
   "metadata": {},
   "source": [
    "## Filling null"
   ]
  },
  {
   "cell_type": "markdown",
   "metadata": {},
   "source": [
    "### Filling age"
   ]
  },
  {
   "cell_type": "code",
   "execution_count": null,
   "metadata": {},
   "outputs": [],
   "source": [
    "train['Initial'] = train.Name.str.extract('([A-Za-z]+)\\.')\n",
    "display(train['Initial'].head())\n",
    "test['Initial'] = train.Name.str.extract('([A-Za-z]+)\\.')\n",
    "display(test['Initial'].head())"
   ]
  },
  {
   "cell_type": "code",
   "execution_count": null,
   "metadata": {},
   "outputs": [],
   "source": [
    "pd.crosstab(train['Initial'], train['Sex']).T.style.background_gradient(cmap='summer_r')"
   ]
  },
  {
   "cell_type": "code",
   "execution_count": null,
   "metadata": {},
   "outputs": [],
   "source": [
    "train['Initial'].replace(['Mlle','Mme','Ms','Dr','Major','Lady','Countess','Jonkheer','Col','Rev','Capt','Sir','Don', 'Dona'],\n",
    "                        ['Miss','Miss','Miss','Mr','Mr','Mrs','Mrs','Other','Other','Other','Mr','Mr','Mr', 'Mr'],inplace=True)\n",
    "\n",
    "test['Initial'].replace(['Mlle','Mme','Ms','Dr','Major','Lady','Countess','Jonkheer','Col','Rev','Capt','Sir','Don', 'Dona'],\n",
    "                        ['Miss','Miss','Miss','Mr','Mr','Mrs','Mrs','Other','Other','Other','Mr','Mr','Mr', 'Mr'],inplace=True)"
   ]
  },
  {
   "cell_type": "code",
   "execution_count": null,
   "metadata": {
    "scrolled": true
   },
   "outputs": [],
   "source": [
    "train[['Age', 'Initial']].groupby('Initial').mean()"
   ]
  },
  {
   "cell_type": "code",
   "execution_count": null,
   "metadata": {},
   "outputs": [],
   "source": [
    "train.loc[train.Age.isnull() & (train.Initial == 'Mr'), 'Age'] = 32.7\n",
    "train.loc[train.Age.isnull() & (train.Initial == 'Miss'), 'Age'] = 21.9\n",
    "train.loc[train.Age.isnull() & (train.Initial == 'Master'), 'Age'] = 4.5\n",
    "train.loc[train.Age.isnull() & (train.Initial == 'Mrs'), 'Age'] = 36.0\n",
    "train.loc[train.Age.isnull() & (train.Initial == 'Other'), \"Age\"] = 45.9\n",
    "\n",
    "test.loc[test.Age.isnull() & (test.Initial == 'Mr'), 'Age'] = 32.7\n",
    "test.loc[test.Age.isnull() & (test.Initial == 'Miss'), 'Age'] = 21.9\n",
    "test.loc[test.Age.isnull() & (test.Initial == 'Master'), 'Age'] = 4.5\n",
    "test.loc[test.Age.isnull() & (test.Initial == 'Mrs'), 'Age'] = 36.0\n",
    "test.loc[test.Age.isnull() & (test.Initial == 'Other'), \"Age\"] = 45.9"
   ]
  },
  {
   "cell_type": "markdown",
   "metadata": {},
   "source": [
    "### Filling embarked"
   ]
  },
  {
   "cell_type": "code",
   "execution_count": null,
   "metadata": {},
   "outputs": [],
   "source": [
    "train['Embarked'].isnull().sum()\n",
    "#Just fill it S"
   ]
  },
  {
   "cell_type": "code",
   "execution_count": null,
   "metadata": {},
   "outputs": [],
   "source": [
    "train['Embarked'].fillna('S', inplace=True)\n",
    "test['Embarked'].fillna('S', inplace=True)\n",
    "train['Embarked'].isnull().sum()\n",
    "#Just fill it S"
   ]
  },
  {
   "cell_type": "markdown",
   "metadata": {},
   "source": [
    "## String to numerical"
   ]
  },
  {
   "cell_type": "code",
   "execution_count": null,
   "metadata": {
    "scrolled": true
   },
   "outputs": [],
   "source": [
    "train.head(2)"
   ]
  },
  {
   "cell_type": "code",
   "execution_count": null,
   "metadata": {},
   "outputs": [],
   "source": [
    "number_encoding(train, ['Sex', 'Initial', 'Embarked'])\n",
    "number_encoding(test, ['Sex', 'Initial', 'Embarked'])"
   ]
  },
  {
   "cell_type": "code",
   "execution_count": null,
   "metadata": {},
   "outputs": [],
   "source": [
    "train.head(2)"
   ]
  },
  {
   "cell_type": "code",
   "execution_count": null,
   "metadata": {},
   "outputs": [],
   "source": [
    "heatmap = train[['Survived', 'Pclass', 'Sex', 'Fare', 'Embarked', 'Family', 'Initial', 'Age']]\n",
    "sns.heatmap(heatmap.astype(float).corr(), cmap=plt.cm.RdBu, annot=True)"
   ]
  },
  {
   "cell_type": "markdown",
   "metadata": {},
   "source": [
    "### Dropping Columns"
   ]
  },
  {
   "cell_type": "code",
   "execution_count": null,
   "metadata": {},
   "outputs": [],
   "source": [
    "train.drop(['PassengerId', 'Name', 'SibSp', 'Parch', 'Ticket', 'Cabin'], axis=1, inplace=True)\n",
    "test.drop(['PassengerId', 'Name', 'SibSp', 'Parch', 'Ticket', 'Cabin'], axis=1, inplace=True)"
   ]
  },
  {
   "cell_type": "code",
   "execution_count": null,
   "metadata": {
    "scrolled": true
   },
   "outputs": [],
   "source": [
    "train.head(2)"
   ]
  },
  {
   "cell_type": "markdown",
   "metadata": {},
   "source": [
    "## Building model"
   ]
  },
  {
   "cell_type": "code",
   "execution_count": null,
   "metadata": {},
   "outputs": [],
   "source": [
    "import torch\n",
    "import torch.nn as nn\n",
    "import torch.optim as optim\n",
    "import torch.nn.functional as F\n",
    "import torch.utils.data as data_utils\n",
    "from torchvision import transforms"
   ]
  },
  {
   "cell_type": "markdown",
   "metadata": {},
   "source": [
    "### Datasets"
   ]
  },
  {
   "cell_type": "markdown",
   "metadata": {},
   "source": [
    "train_X = train\n",
    "train_Y = tmp_Y = train['Survived'].values\n",
    "died = [0, 1]\n",
    "survived = [1, 0]\n",
    "is_died = lambda x: [1, 0] if x == 1 else [0, 1]\n",
    "train_Y = [is_died(i) for i in tmp_Y]\n",
    "del train['Survived']"
   ]
  },
  {
   "cell_type": "code",
   "execution_count": null,
   "metadata": {},
   "outputs": [],
   "source": [
    "\n",
    "train_X = train\n",
    "train_Y = train['Survived']\n",
    "del train['Survived']\n",
    "\n",
    "train_X = torch.tensor(train_X.values).float()\n",
    "train_Y = torch.tensor(train_Y.values).float()"
   ]
  },
  {
   "cell_type": "code",
   "execution_count": null,
   "metadata": {},
   "outputs": [],
   "source": [
    "#train_Y = train_Y.reshape(-1, 1)"
   ]
  },
  {
   "cell_type": "code",
   "execution_count": null,
   "metadata": {},
   "outputs": [],
   "source": [
    "print(train_X.shape, train_Y.shape)"
   ]
  },
  {
   "cell_type": "markdown",
   "metadata": {},
   "source": [
    "### Model"
   ]
  },
  {
   "cell_type": "code",
   "execution_count": null,
   "metadata": {},
   "outputs": [],
   "source": [
    "class Survived(nn.Module):\n",
    "    def __init__(self):\n",
    "        super(Survived, self).__init__()\n",
    "        self.linear = nn.Linear(7, 1) #7 : input, 1 : output (died or survived)\n",
    "        \n",
    "    def forward(self, x):\n",
    "        return F.sigmoid(self.linear(x))\n",
    "    \n",
    "survived = Survived()\n",
    "survived"
   ]
  },
  {
   "cell_type": "code",
   "execution_count": null,
   "metadata": {},
   "outputs": [],
   "source": [
    "train_set = data_utils.TensorDataset(train_X, train_Y)\n",
    "train_loader = data_utils.DataLoader(train_set, batch_size = 64, shuffle = True)"
   ]
  },
  {
   "cell_type": "code",
   "execution_count": null,
   "metadata": {},
   "outputs": [],
   "source": [
    "optimizer = optim.Adam(survived.parameters(), lr=0.01)\n",
    "get_loss = nn.BCELoss()  \n",
    "loss_graph = []"
   ]
  },
  {
   "cell_type": "code",
   "execution_count": null,
   "metadata": {
    "scrolled": false
   },
   "outputs": [],
   "source": [
    "from torch.autograd import Variable\n",
    "num_epoch = 10\n",
    "for epoch in range(num_epoch):\n",
    "    for x, y in train_loader:\n",
    "        optimizer.zero_grad()\n",
    "        out = survived(x)\n",
    "        loss = get_loss(out, y)\n",
    "        loss.backward()\n",
    "        optimizer.step()\n",
    "        loss_graph.append(loss.data)\n",
    "    print('[{}], loss : {}'.format(epoch, loss.data))"
   ]
  },
  {
   "cell_type": "code",
   "execution_count": null,
   "metadata": {},
   "outputs": [],
   "source": [
    "plt.plot(loss_graph)\n",
    "print('Last Loss Value : {}'.format(loss_graph[-1]))"
   ]
  },
  {
   "cell_type": "markdown",
   "metadata": {},
   "source": [
    "## Accuracy"
   ]
  },
  {
   "cell_type": "code",
   "execution_count": null,
   "metadata": {},
   "outputs": [],
   "source": [
    "# Test the Model\n",
    "correct = 0\n",
    "total = 0\n",
    "for x, y in train_loader:\n",
    "    out = survived(x)\n",
    "    _, predicted = torch.max(out.data, 1)\n",
    "    out = (out > 0.5).float()\n",
    "    correct += (out == y.reshape(-1, 1)).float().sum()\n",
    "    total += x.size(0)\n",
    "#print(int(correct) / float(total))\n",
    "print('Accuracy : {:.2f}%'.format(100 * int(correct) / float(total)))"
   ]
  },
  {
   "cell_type": "code",
   "execution_count": null,
   "metadata": {},
   "outputs": [],
   "source": [
    "train.head(0)"
   ]
  },
  {
   "cell_type": "code",
   "execution_count": null,
   "metadata": {},
   "outputs": [],
   "source": []
  },
  {
   "cell_type": "markdown",
   "metadata": {},
   "source": [
    "pclass = int(input('What is your Pclass? : '))\n",
    "sex = int(input('What is your sex? male: 1, female : 0 :'))\n",
    "age = float(input('What is your age? in float format : '))\n",
    "embarked = int(input('Embarked (0, 1, 2) : '))\n",
    "initial = int(input('Your initial : (0, 1, 2, 3, 4) : '))\n",
    "fare = float(input('Fare in float : '))\n",
    "family = int(input('Number of family in titanic : '))\n",
    "\n",
    "x = torch.tensor([pclass, sex, age, fare, embarked, family, initial])"
   ]
  },
  {
   "cell_type": "markdown",
   "metadata": {},
   "source": [
    "out = survived(x)\n",
    "int((out > 0.5))"
   ]
  }
 ],
 "metadata": {
  "kernelspec": {
   "display_name": "Python 3",
   "language": "python",
   "name": "python3"
  },
  "language_info": {
   "codemirror_mode": {
    "name": "ipython",
    "version": 3
   },
   "file_extension": ".py",
   "mimetype": "text/x-python",
   "name": "python",
   "nbconvert_exporter": "python",
   "pygments_lexer": "ipython3",
   "version": "3.6.8"
  }
 },
 "nbformat": 4,
 "nbformat_minor": 2
}
