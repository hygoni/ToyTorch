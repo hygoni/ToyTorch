{
 "cells": [
  {
   "cell_type": "code",
   "execution_count": 1,
   "metadata": {},
   "outputs": [
    {
     "data": {
      "text/html": [
       "        <script type=\"text/javascript\">\n",
       "        window.PlotlyConfig = {MathJaxConfig: 'local'};\n",
       "        if (window.MathJax) {MathJax.Hub.Config({SVG: {font: \"STIX-Web\"}});}\n",
       "        if (typeof require !== 'undefined') {\n",
       "        require.undef(\"plotly\");\n",
       "        requirejs.config({\n",
       "            paths: {\n",
       "                'plotly': ['https://cdn.plot.ly/plotly-latest.min']\n",
       "            }\n",
       "        });\n",
       "        require(['plotly'], function(Plotly) {\n",
       "            window._Plotly = Plotly;\n",
       "        });\n",
       "        }\n",
       "        </script>\n",
       "        "
      ]
     },
     "metadata": {},
     "output_type": "display_data"
    }
   ],
   "source": [
    "import numpy as np\n",
    "import pandas as pd\n",
    "from pandas import Series\n",
    "import matplotlib.pyplot as plt\n",
    "import seaborn as sns\n",
    "plt.style.use('seaborn')\n",
    "sns.set(font_scale=2.5)\n",
    "\n",
    "import plotly.offline as py\n",
    "py.init_notebook_mode(connected=True)\n",
    "import plotly.graph_objs as go\n",
    "import plotly.tools as tls\n",
    "\n",
    "import warnings\n",
    "warnings.filterwarnings('ignore')\n",
    "%matplotlib inline\n",
    "encodings = []\n",
    "def number_encoding(df, list_col, print_map=True):\n",
    "    global encodings\n",
    "    for col in list_col:\n",
    "        dict_map = {}\n",
    "        i = 0\n",
    "        for idx in sorted(df[col].unique()):\n",
    "            dict_map[idx] = i\n",
    "            i += 1\n",
    "        df[col] = df[col].map(dict_map)\n",
    "        \n",
    "        if print_map:\n",
    "            print(dict_map)\n",
    "        encodings += [dict_map]\n",
    "        \n",
    "train = pd.read_csv('./data/train.csv')\n",
    "test = pd.read_csv('./data/test.csv')"
   ]
  },
  {
   "cell_type": "code",
   "execution_count": 2,
   "metadata": {},
   "outputs": [],
   "source": [
    "train['Family'] = train['SibSp'] + train['Parch'] + 1\n",
    "test['Family'] = test['SibSp'] + test['Parch'] + 1\n",
    "\n",
    "test.loc[test.Fare.isnull(), 'Fare'] = test['Fare'].mean()\n",
    "train.loc[train.Fare.isnull(), 'Fare'] = train['Fare'].mean()\n",
    "\n",
    "train['Fare'] = train['Fare'].map(lambda x: np.log(x) if x > 0 else 0)\n",
    "test['Fare'] = test['Fare'].map(lambda x: np.log(x) if x > 0 else 0)"
   ]
  },
  {
   "cell_type": "code",
   "execution_count": 3,
   "metadata": {},
   "outputs": [
    {
     "data": {
      "text/html": [
       "<div>\n",
       "<style scoped>\n",
       "    .dataframe tbody tr th:only-of-type {\n",
       "        vertical-align: middle;\n",
       "    }\n",
       "\n",
       "    .dataframe tbody tr th {\n",
       "        vertical-align: top;\n",
       "    }\n",
       "\n",
       "    .dataframe thead th {\n",
       "        text-align: right;\n",
       "    }\n",
       "</style>\n",
       "<table border=\"1\" class=\"dataframe\">\n",
       "  <thead>\n",
       "    <tr style=\"text-align: right;\">\n",
       "      <th></th>\n",
       "      <th>PassengerId</th>\n",
       "      <th>Pclass</th>\n",
       "      <th>Name</th>\n",
       "      <th>Sex</th>\n",
       "      <th>Age</th>\n",
       "      <th>SibSp</th>\n",
       "      <th>Parch</th>\n",
       "      <th>Ticket</th>\n",
       "      <th>Fare</th>\n",
       "      <th>Cabin</th>\n",
       "      <th>Embarked</th>\n",
       "      <th>Family</th>\n",
       "    </tr>\n",
       "  </thead>\n",
       "  <tbody>\n",
       "    <tr>\n",
       "      <th>0</th>\n",
       "      <td>892</td>\n",
       "      <td>3</td>\n",
       "      <td>Kelly, Mr. James</td>\n",
       "      <td>male</td>\n",
       "      <td>34.5</td>\n",
       "      <td>0</td>\n",
       "      <td>0</td>\n",
       "      <td>330911</td>\n",
       "      <td>2.057860</td>\n",
       "      <td>NaN</td>\n",
       "      <td>Q</td>\n",
       "      <td>1</td>\n",
       "    </tr>\n",
       "    <tr>\n",
       "      <th>1</th>\n",
       "      <td>893</td>\n",
       "      <td>3</td>\n",
       "      <td>Wilkes, Mrs. James (Ellen Needs)</td>\n",
       "      <td>female</td>\n",
       "      <td>47.0</td>\n",
       "      <td>1</td>\n",
       "      <td>0</td>\n",
       "      <td>363272</td>\n",
       "      <td>1.945910</td>\n",
       "      <td>NaN</td>\n",
       "      <td>S</td>\n",
       "      <td>2</td>\n",
       "    </tr>\n",
       "    <tr>\n",
       "      <th>2</th>\n",
       "      <td>894</td>\n",
       "      <td>2</td>\n",
       "      <td>Myles, Mr. Thomas Francis</td>\n",
       "      <td>male</td>\n",
       "      <td>62.0</td>\n",
       "      <td>0</td>\n",
       "      <td>0</td>\n",
       "      <td>240276</td>\n",
       "      <td>2.270836</td>\n",
       "      <td>NaN</td>\n",
       "      <td>Q</td>\n",
       "      <td>1</td>\n",
       "    </tr>\n",
       "    <tr>\n",
       "      <th>3</th>\n",
       "      <td>895</td>\n",
       "      <td>3</td>\n",
       "      <td>Wirz, Mr. Albert</td>\n",
       "      <td>male</td>\n",
       "      <td>27.0</td>\n",
       "      <td>0</td>\n",
       "      <td>0</td>\n",
       "      <td>315154</td>\n",
       "      <td>2.159003</td>\n",
       "      <td>NaN</td>\n",
       "      <td>S</td>\n",
       "      <td>1</td>\n",
       "    </tr>\n",
       "    <tr>\n",
       "      <th>4</th>\n",
       "      <td>896</td>\n",
       "      <td>3</td>\n",
       "      <td>Hirvonen, Mrs. Alexander (Helga E Lindqvist)</td>\n",
       "      <td>female</td>\n",
       "      <td>22.0</td>\n",
       "      <td>1</td>\n",
       "      <td>1</td>\n",
       "      <td>3101298</td>\n",
       "      <td>2.508582</td>\n",
       "      <td>NaN</td>\n",
       "      <td>S</td>\n",
       "      <td>3</td>\n",
       "    </tr>\n",
       "  </tbody>\n",
       "</table>\n",
       "</div>"
      ],
      "text/plain": [
       "   PassengerId  Pclass                                          Name     Sex  \\\n",
       "0          892       3                              Kelly, Mr. James    male   \n",
       "1          893       3              Wilkes, Mrs. James (Ellen Needs)  female   \n",
       "2          894       2                     Myles, Mr. Thomas Francis    male   \n",
       "3          895       3                              Wirz, Mr. Albert    male   \n",
       "4          896       3  Hirvonen, Mrs. Alexander (Helga E Lindqvist)  female   \n",
       "\n",
       "    Age  SibSp  Parch   Ticket      Fare Cabin Embarked  Family  \n",
       "0  34.5      0      0   330911  2.057860   NaN        Q       1  \n",
       "1  47.0      1      0   363272  1.945910   NaN        S       2  \n",
       "2  62.0      0      0   240276  2.270836   NaN        Q       1  \n",
       "3  27.0      0      0   315154  2.159003   NaN        S       1  \n",
       "4  22.0      1      1  3101298  2.508582   NaN        S       3  "
      ]
     },
     "execution_count": 3,
     "metadata": {},
     "output_type": "execute_result"
    }
   ],
   "source": [
    "test.head()"
   ]
  },
  {
   "cell_type": "markdown",
   "metadata": {},
   "source": [
    "## Filling null"
   ]
  },
  {
   "cell_type": "markdown",
   "metadata": {},
   "source": [
    "### Filling age"
   ]
  },
  {
   "cell_type": "code",
   "execution_count": 4,
   "metadata": {},
   "outputs": [
    {
     "data": {
      "text/plain": [
       "0      Mr\n",
       "1     Mrs\n",
       "2    Miss\n",
       "3     Mrs\n",
       "4      Mr\n",
       "Name: Initial, dtype: object"
      ]
     },
     "metadata": {},
     "output_type": "display_data"
    },
    {
     "data": {
      "text/plain": [
       "0      Mr\n",
       "1     Mrs\n",
       "2    Miss\n",
       "3     Mrs\n",
       "4      Mr\n",
       "Name: Initial, dtype: object"
      ]
     },
     "metadata": {},
     "output_type": "display_data"
    }
   ],
   "source": [
    "train['Initial'] = train.Name.str.extract('([A-Za-z]+)\\.')\n",
    "display(train['Initial'].head())\n",
    "test['Initial'] = train.Name.str.extract('([A-Za-z]+)\\.')\n",
    "display(test['Initial'].head())"
   ]
  },
  {
   "cell_type": "code",
   "execution_count": 5,
   "metadata": {},
   "outputs": [
    {
     "data": {
      "text/html": [
       "<style  type=\"text/css\" >\n",
       "    #T_d8bb234e_a71c_11e9_b96e_560001f6cfb2row0_col0 {\n",
       "            background-color:  #ffff66;\n",
       "            color:  #000000;\n",
       "        }    #T_d8bb234e_a71c_11e9_b96e_560001f6cfb2row0_col1 {\n",
       "            background-color:  #ffff66;\n",
       "            color:  #000000;\n",
       "        }    #T_d8bb234e_a71c_11e9_b96e_560001f6cfb2row0_col2 {\n",
       "            background-color:  #008066;\n",
       "            color:  #f1f1f1;\n",
       "        }    #T_d8bb234e_a71c_11e9_b96e_560001f6cfb2row0_col3 {\n",
       "            background-color:  #ffff66;\n",
       "            color:  #000000;\n",
       "        }    #T_d8bb234e_a71c_11e9_b96e_560001f6cfb2row0_col4 {\n",
       "            background-color:  #ffff66;\n",
       "            color:  #000000;\n",
       "        }    #T_d8bb234e_a71c_11e9_b96e_560001f6cfb2row0_col5 {\n",
       "            background-color:  #ffff66;\n",
       "            color:  #000000;\n",
       "        }    #T_d8bb234e_a71c_11e9_b96e_560001f6cfb2row0_col6 {\n",
       "            background-color:  #008066;\n",
       "            color:  #f1f1f1;\n",
       "        }    #T_d8bb234e_a71c_11e9_b96e_560001f6cfb2row0_col7 {\n",
       "            background-color:  #ffff66;\n",
       "            color:  #000000;\n",
       "        }    #T_d8bb234e_a71c_11e9_b96e_560001f6cfb2row0_col8 {\n",
       "            background-color:  #ffff66;\n",
       "            color:  #000000;\n",
       "        }    #T_d8bb234e_a71c_11e9_b96e_560001f6cfb2row0_col9 {\n",
       "            background-color:  #008066;\n",
       "            color:  #f1f1f1;\n",
       "        }    #T_d8bb234e_a71c_11e9_b96e_560001f6cfb2row0_col10 {\n",
       "            background-color:  #008066;\n",
       "            color:  #f1f1f1;\n",
       "        }    #T_d8bb234e_a71c_11e9_b96e_560001f6cfb2row0_col11 {\n",
       "            background-color:  #008066;\n",
       "            color:  #f1f1f1;\n",
       "        }    #T_d8bb234e_a71c_11e9_b96e_560001f6cfb2row0_col12 {\n",
       "            background-color:  #ffff66;\n",
       "            color:  #000000;\n",
       "        }    #T_d8bb234e_a71c_11e9_b96e_560001f6cfb2row0_col13 {\n",
       "            background-color:  #008066;\n",
       "            color:  #f1f1f1;\n",
       "        }    #T_d8bb234e_a71c_11e9_b96e_560001f6cfb2row0_col14 {\n",
       "            background-color:  #008066;\n",
       "            color:  #f1f1f1;\n",
       "        }    #T_d8bb234e_a71c_11e9_b96e_560001f6cfb2row0_col15 {\n",
       "            background-color:  #ffff66;\n",
       "            color:  #000000;\n",
       "        }    #T_d8bb234e_a71c_11e9_b96e_560001f6cfb2row0_col16 {\n",
       "            background-color:  #ffff66;\n",
       "            color:  #000000;\n",
       "        }    #T_d8bb234e_a71c_11e9_b96e_560001f6cfb2row1_col0 {\n",
       "            background-color:  #008066;\n",
       "            color:  #f1f1f1;\n",
       "        }    #T_d8bb234e_a71c_11e9_b96e_560001f6cfb2row1_col1 {\n",
       "            background-color:  #008066;\n",
       "            color:  #f1f1f1;\n",
       "        }    #T_d8bb234e_a71c_11e9_b96e_560001f6cfb2row1_col2 {\n",
       "            background-color:  #ffff66;\n",
       "            color:  #000000;\n",
       "        }    #T_d8bb234e_a71c_11e9_b96e_560001f6cfb2row1_col3 {\n",
       "            background-color:  #008066;\n",
       "            color:  #f1f1f1;\n",
       "        }    #T_d8bb234e_a71c_11e9_b96e_560001f6cfb2row1_col4 {\n",
       "            background-color:  #008066;\n",
       "            color:  #f1f1f1;\n",
       "        }    #T_d8bb234e_a71c_11e9_b96e_560001f6cfb2row1_col5 {\n",
       "            background-color:  #008066;\n",
       "            color:  #f1f1f1;\n",
       "        }    #T_d8bb234e_a71c_11e9_b96e_560001f6cfb2row1_col6 {\n",
       "            background-color:  #ffff66;\n",
       "            color:  #000000;\n",
       "        }    #T_d8bb234e_a71c_11e9_b96e_560001f6cfb2row1_col7 {\n",
       "            background-color:  #008066;\n",
       "            color:  #f1f1f1;\n",
       "        }    #T_d8bb234e_a71c_11e9_b96e_560001f6cfb2row1_col8 {\n",
       "            background-color:  #008066;\n",
       "            color:  #f1f1f1;\n",
       "        }    #T_d8bb234e_a71c_11e9_b96e_560001f6cfb2row1_col9 {\n",
       "            background-color:  #ffff66;\n",
       "            color:  #000000;\n",
       "        }    #T_d8bb234e_a71c_11e9_b96e_560001f6cfb2row1_col10 {\n",
       "            background-color:  #ffff66;\n",
       "            color:  #000000;\n",
       "        }    #T_d8bb234e_a71c_11e9_b96e_560001f6cfb2row1_col11 {\n",
       "            background-color:  #ffff66;\n",
       "            color:  #000000;\n",
       "        }    #T_d8bb234e_a71c_11e9_b96e_560001f6cfb2row1_col12 {\n",
       "            background-color:  #008066;\n",
       "            color:  #f1f1f1;\n",
       "        }    #T_d8bb234e_a71c_11e9_b96e_560001f6cfb2row1_col13 {\n",
       "            background-color:  #ffff66;\n",
       "            color:  #000000;\n",
       "        }    #T_d8bb234e_a71c_11e9_b96e_560001f6cfb2row1_col14 {\n",
       "            background-color:  #ffff66;\n",
       "            color:  #000000;\n",
       "        }    #T_d8bb234e_a71c_11e9_b96e_560001f6cfb2row1_col15 {\n",
       "            background-color:  #008066;\n",
       "            color:  #f1f1f1;\n",
       "        }    #T_d8bb234e_a71c_11e9_b96e_560001f6cfb2row1_col16 {\n",
       "            background-color:  #008066;\n",
       "            color:  #f1f1f1;\n",
       "        }</style><table id=\"T_d8bb234e_a71c_11e9_b96e_560001f6cfb2\" ><thead>    <tr>        <th class=\"index_name level0\" >Initial</th>        <th class=\"col_heading level0 col0\" >Capt</th>        <th class=\"col_heading level0 col1\" >Col</th>        <th class=\"col_heading level0 col2\" >Countess</th>        <th class=\"col_heading level0 col3\" >Don</th>        <th class=\"col_heading level0 col4\" >Dr</th>        <th class=\"col_heading level0 col5\" >Jonkheer</th>        <th class=\"col_heading level0 col6\" >Lady</th>        <th class=\"col_heading level0 col7\" >Major</th>        <th class=\"col_heading level0 col8\" >Master</th>        <th class=\"col_heading level0 col9\" >Miss</th>        <th class=\"col_heading level0 col10\" >Mlle</th>        <th class=\"col_heading level0 col11\" >Mme</th>        <th class=\"col_heading level0 col12\" >Mr</th>        <th class=\"col_heading level0 col13\" >Mrs</th>        <th class=\"col_heading level0 col14\" >Ms</th>        <th class=\"col_heading level0 col15\" >Rev</th>        <th class=\"col_heading level0 col16\" >Sir</th>    </tr>    <tr>        <th class=\"index_name level0\" >Sex</th>        <th class=\"blank\" ></th>        <th class=\"blank\" ></th>        <th class=\"blank\" ></th>        <th class=\"blank\" ></th>        <th class=\"blank\" ></th>        <th class=\"blank\" ></th>        <th class=\"blank\" ></th>        <th class=\"blank\" ></th>        <th class=\"blank\" ></th>        <th class=\"blank\" ></th>        <th class=\"blank\" ></th>        <th class=\"blank\" ></th>        <th class=\"blank\" ></th>        <th class=\"blank\" ></th>        <th class=\"blank\" ></th>        <th class=\"blank\" ></th>        <th class=\"blank\" ></th>    </tr></thead><tbody>\n",
       "                <tr>\n",
       "                        <th id=\"T_d8bb234e_a71c_11e9_b96e_560001f6cfb2level0_row0\" class=\"row_heading level0 row0\" >female</th>\n",
       "                        <td id=\"T_d8bb234e_a71c_11e9_b96e_560001f6cfb2row0_col0\" class=\"data row0 col0\" >0</td>\n",
       "                        <td id=\"T_d8bb234e_a71c_11e9_b96e_560001f6cfb2row0_col1\" class=\"data row0 col1\" >0</td>\n",
       "                        <td id=\"T_d8bb234e_a71c_11e9_b96e_560001f6cfb2row0_col2\" class=\"data row0 col2\" >1</td>\n",
       "                        <td id=\"T_d8bb234e_a71c_11e9_b96e_560001f6cfb2row0_col3\" class=\"data row0 col3\" >0</td>\n",
       "                        <td id=\"T_d8bb234e_a71c_11e9_b96e_560001f6cfb2row0_col4\" class=\"data row0 col4\" >1</td>\n",
       "                        <td id=\"T_d8bb234e_a71c_11e9_b96e_560001f6cfb2row0_col5\" class=\"data row0 col5\" >0</td>\n",
       "                        <td id=\"T_d8bb234e_a71c_11e9_b96e_560001f6cfb2row0_col6\" class=\"data row0 col6\" >1</td>\n",
       "                        <td id=\"T_d8bb234e_a71c_11e9_b96e_560001f6cfb2row0_col7\" class=\"data row0 col7\" >0</td>\n",
       "                        <td id=\"T_d8bb234e_a71c_11e9_b96e_560001f6cfb2row0_col8\" class=\"data row0 col8\" >0</td>\n",
       "                        <td id=\"T_d8bb234e_a71c_11e9_b96e_560001f6cfb2row0_col9\" class=\"data row0 col9\" >182</td>\n",
       "                        <td id=\"T_d8bb234e_a71c_11e9_b96e_560001f6cfb2row0_col10\" class=\"data row0 col10\" >2</td>\n",
       "                        <td id=\"T_d8bb234e_a71c_11e9_b96e_560001f6cfb2row0_col11\" class=\"data row0 col11\" >1</td>\n",
       "                        <td id=\"T_d8bb234e_a71c_11e9_b96e_560001f6cfb2row0_col12\" class=\"data row0 col12\" >0</td>\n",
       "                        <td id=\"T_d8bb234e_a71c_11e9_b96e_560001f6cfb2row0_col13\" class=\"data row0 col13\" >125</td>\n",
       "                        <td id=\"T_d8bb234e_a71c_11e9_b96e_560001f6cfb2row0_col14\" class=\"data row0 col14\" >1</td>\n",
       "                        <td id=\"T_d8bb234e_a71c_11e9_b96e_560001f6cfb2row0_col15\" class=\"data row0 col15\" >0</td>\n",
       "                        <td id=\"T_d8bb234e_a71c_11e9_b96e_560001f6cfb2row0_col16\" class=\"data row0 col16\" >0</td>\n",
       "            </tr>\n",
       "            <tr>\n",
       "                        <th id=\"T_d8bb234e_a71c_11e9_b96e_560001f6cfb2level0_row1\" class=\"row_heading level0 row1\" >male</th>\n",
       "                        <td id=\"T_d8bb234e_a71c_11e9_b96e_560001f6cfb2row1_col0\" class=\"data row1 col0\" >1</td>\n",
       "                        <td id=\"T_d8bb234e_a71c_11e9_b96e_560001f6cfb2row1_col1\" class=\"data row1 col1\" >2</td>\n",
       "                        <td id=\"T_d8bb234e_a71c_11e9_b96e_560001f6cfb2row1_col2\" class=\"data row1 col2\" >0</td>\n",
       "                        <td id=\"T_d8bb234e_a71c_11e9_b96e_560001f6cfb2row1_col3\" class=\"data row1 col3\" >1</td>\n",
       "                        <td id=\"T_d8bb234e_a71c_11e9_b96e_560001f6cfb2row1_col4\" class=\"data row1 col4\" >6</td>\n",
       "                        <td id=\"T_d8bb234e_a71c_11e9_b96e_560001f6cfb2row1_col5\" class=\"data row1 col5\" >1</td>\n",
       "                        <td id=\"T_d8bb234e_a71c_11e9_b96e_560001f6cfb2row1_col6\" class=\"data row1 col6\" >0</td>\n",
       "                        <td id=\"T_d8bb234e_a71c_11e9_b96e_560001f6cfb2row1_col7\" class=\"data row1 col7\" >2</td>\n",
       "                        <td id=\"T_d8bb234e_a71c_11e9_b96e_560001f6cfb2row1_col8\" class=\"data row1 col8\" >40</td>\n",
       "                        <td id=\"T_d8bb234e_a71c_11e9_b96e_560001f6cfb2row1_col9\" class=\"data row1 col9\" >0</td>\n",
       "                        <td id=\"T_d8bb234e_a71c_11e9_b96e_560001f6cfb2row1_col10\" class=\"data row1 col10\" >0</td>\n",
       "                        <td id=\"T_d8bb234e_a71c_11e9_b96e_560001f6cfb2row1_col11\" class=\"data row1 col11\" >0</td>\n",
       "                        <td id=\"T_d8bb234e_a71c_11e9_b96e_560001f6cfb2row1_col12\" class=\"data row1 col12\" >517</td>\n",
       "                        <td id=\"T_d8bb234e_a71c_11e9_b96e_560001f6cfb2row1_col13\" class=\"data row1 col13\" >0</td>\n",
       "                        <td id=\"T_d8bb234e_a71c_11e9_b96e_560001f6cfb2row1_col14\" class=\"data row1 col14\" >0</td>\n",
       "                        <td id=\"T_d8bb234e_a71c_11e9_b96e_560001f6cfb2row1_col15\" class=\"data row1 col15\" >6</td>\n",
       "                        <td id=\"T_d8bb234e_a71c_11e9_b96e_560001f6cfb2row1_col16\" class=\"data row1 col16\" >1</td>\n",
       "            </tr>\n",
       "    </tbody></table>"
      ],
      "text/plain": [
       "<pandas.io.formats.style.Styler at 0x7fc28c6a5048>"
      ]
     },
     "execution_count": 5,
     "metadata": {},
     "output_type": "execute_result"
    }
   ],
   "source": [
    "pd.crosstab(train['Initial'], train['Sex']).T.style.background_gradient(cmap='summer_r')"
   ]
  },
  {
   "cell_type": "code",
   "execution_count": 6,
   "metadata": {},
   "outputs": [],
   "source": [
    "train['Initial'].replace(['Mlle','Mme','Ms','Dr','Major','Lady','Countess','Jonkheer','Col','Rev','Capt','Sir','Don', 'Dona'],\n",
    "                        ['Miss','Miss','Miss','Mr','Mr','Mrs','Mrs','Other','Other','Other','Mr','Mr','Mr', 'Mr'],inplace=True)\n",
    "\n",
    "test['Initial'].replace(['Mlle','Mme','Ms','Dr','Major','Lady','Countess','Jonkheer','Col','Rev','Capt','Sir','Don', 'Dona'],\n",
    "                        ['Miss','Miss','Miss','Mr','Mr','Mrs','Mrs','Other','Other','Other','Mr','Mr','Mr', 'Mr'],inplace=True)"
   ]
  },
  {
   "cell_type": "code",
   "execution_count": 7,
   "metadata": {
    "scrolled": true
   },
   "outputs": [
    {
     "data": {
      "text/html": [
       "<div>\n",
       "<style scoped>\n",
       "    .dataframe tbody tr th:only-of-type {\n",
       "        vertical-align: middle;\n",
       "    }\n",
       "\n",
       "    .dataframe tbody tr th {\n",
       "        vertical-align: top;\n",
       "    }\n",
       "\n",
       "    .dataframe thead th {\n",
       "        text-align: right;\n",
       "    }\n",
       "</style>\n",
       "<table border=\"1\" class=\"dataframe\">\n",
       "  <thead>\n",
       "    <tr style=\"text-align: right;\">\n",
       "      <th></th>\n",
       "      <th>Age</th>\n",
       "    </tr>\n",
       "    <tr>\n",
       "      <th>Initial</th>\n",
       "      <th></th>\n",
       "    </tr>\n",
       "  </thead>\n",
       "  <tbody>\n",
       "    <tr>\n",
       "      <th>Master</th>\n",
       "      <td>4.574167</td>\n",
       "    </tr>\n",
       "    <tr>\n",
       "      <th>Miss</th>\n",
       "      <td>21.860000</td>\n",
       "    </tr>\n",
       "    <tr>\n",
       "      <th>Mr</th>\n",
       "      <td>32.739609</td>\n",
       "    </tr>\n",
       "    <tr>\n",
       "      <th>Mrs</th>\n",
       "      <td>35.981818</td>\n",
       "    </tr>\n",
       "    <tr>\n",
       "      <th>Other</th>\n",
       "      <td>45.888889</td>\n",
       "    </tr>\n",
       "  </tbody>\n",
       "</table>\n",
       "</div>"
      ],
      "text/plain": [
       "               Age\n",
       "Initial           \n",
       "Master    4.574167\n",
       "Miss     21.860000\n",
       "Mr       32.739609\n",
       "Mrs      35.981818\n",
       "Other    45.888889"
      ]
     },
     "execution_count": 7,
     "metadata": {},
     "output_type": "execute_result"
    }
   ],
   "source": [
    "train[['Age', 'Initial']].groupby('Initial').mean()"
   ]
  },
  {
   "cell_type": "code",
   "execution_count": 8,
   "metadata": {},
   "outputs": [],
   "source": [
    "train.loc[train.Age.isnull() & (train.Initial == 'Mr'), 'Age'] = 32.7\n",
    "train.loc[train.Age.isnull() & (train.Initial == 'Miss'), 'Age'] = 21.9\n",
    "train.loc[train.Age.isnull() & (train.Initial == 'Master'), 'Age'] = 4.5\n",
    "train.loc[train.Age.isnull() & (train.Initial == 'Mrs'), 'Age'] = 36.0\n",
    "train.loc[train.Age.isnull() & (train.Initial == 'Other'), \"Age\"] = 45.9\n",
    "\n",
    "test.loc[test.Age.isnull() & (test.Initial == 'Mr'), 'Age'] = 32.7\n",
    "test.loc[test.Age.isnull() & (test.Initial == 'Miss'), 'Age'] = 21.9\n",
    "test.loc[test.Age.isnull() & (test.Initial == 'Master'), 'Age'] = 4.5\n",
    "test.loc[test.Age.isnull() & (test.Initial == 'Mrs'), 'Age'] = 36.0\n",
    "test.loc[test.Age.isnull() & (test.Initial == 'Other'), \"Age\"] = 45.9"
   ]
  },
  {
   "cell_type": "markdown",
   "metadata": {},
   "source": [
    "### Filling embarked"
   ]
  },
  {
   "cell_type": "code",
   "execution_count": 9,
   "metadata": {},
   "outputs": [
    {
     "data": {
      "text/plain": [
       "2"
      ]
     },
     "execution_count": 9,
     "metadata": {},
     "output_type": "execute_result"
    }
   ],
   "source": [
    "train['Embarked'].isnull().sum()\n",
    "#Just fill it S"
   ]
  },
  {
   "cell_type": "code",
   "execution_count": 10,
   "metadata": {},
   "outputs": [
    {
     "data": {
      "text/plain": [
       "0"
      ]
     },
     "execution_count": 10,
     "metadata": {},
     "output_type": "execute_result"
    }
   ],
   "source": [
    "train['Embarked'].fillna('S', inplace=True)\n",
    "test['Embarked'].fillna('S', inplace=True)\n",
    "train['Embarked'].isnull().sum()\n",
    "#Just fill it S"
   ]
  },
  {
   "cell_type": "markdown",
   "metadata": {},
   "source": [
    "## String to numerical"
   ]
  },
  {
   "cell_type": "code",
   "execution_count": 11,
   "metadata": {
    "scrolled": true
   },
   "outputs": [
    {
     "data": {
      "text/html": [
       "<div>\n",
       "<style scoped>\n",
       "    .dataframe tbody tr th:only-of-type {\n",
       "        vertical-align: middle;\n",
       "    }\n",
       "\n",
       "    .dataframe tbody tr th {\n",
       "        vertical-align: top;\n",
       "    }\n",
       "\n",
       "    .dataframe thead th {\n",
       "        text-align: right;\n",
       "    }\n",
       "</style>\n",
       "<table border=\"1\" class=\"dataframe\">\n",
       "  <thead>\n",
       "    <tr style=\"text-align: right;\">\n",
       "      <th></th>\n",
       "      <th>PassengerId</th>\n",
       "      <th>Survived</th>\n",
       "      <th>Pclass</th>\n",
       "      <th>Name</th>\n",
       "      <th>Sex</th>\n",
       "      <th>Age</th>\n",
       "      <th>SibSp</th>\n",
       "      <th>Parch</th>\n",
       "      <th>Ticket</th>\n",
       "      <th>Fare</th>\n",
       "      <th>Cabin</th>\n",
       "      <th>Embarked</th>\n",
       "      <th>Family</th>\n",
       "      <th>Initial</th>\n",
       "    </tr>\n",
       "  </thead>\n",
       "  <tbody>\n",
       "    <tr>\n",
       "      <th>0</th>\n",
       "      <td>1</td>\n",
       "      <td>0</td>\n",
       "      <td>3</td>\n",
       "      <td>Braund, Mr. Owen Harris</td>\n",
       "      <td>male</td>\n",
       "      <td>22.0</td>\n",
       "      <td>1</td>\n",
       "      <td>0</td>\n",
       "      <td>A/5 21171</td>\n",
       "      <td>1.981001</td>\n",
       "      <td>NaN</td>\n",
       "      <td>S</td>\n",
       "      <td>2</td>\n",
       "      <td>Mr</td>\n",
       "    </tr>\n",
       "    <tr>\n",
       "      <th>1</th>\n",
       "      <td>2</td>\n",
       "      <td>1</td>\n",
       "      <td>1</td>\n",
       "      <td>Cumings, Mrs. John Bradley (Florence Briggs Th...</td>\n",
       "      <td>female</td>\n",
       "      <td>38.0</td>\n",
       "      <td>1</td>\n",
       "      <td>0</td>\n",
       "      <td>PC 17599</td>\n",
       "      <td>4.266662</td>\n",
       "      <td>C85</td>\n",
       "      <td>C</td>\n",
       "      <td>2</td>\n",
       "      <td>Mrs</td>\n",
       "    </tr>\n",
       "  </tbody>\n",
       "</table>\n",
       "</div>"
      ],
      "text/plain": [
       "   PassengerId  Survived  Pclass  \\\n",
       "0            1         0       3   \n",
       "1            2         1       1   \n",
       "\n",
       "                                                Name     Sex   Age  SibSp  \\\n",
       "0                            Braund, Mr. Owen Harris    male  22.0      1   \n",
       "1  Cumings, Mrs. John Bradley (Florence Briggs Th...  female  38.0      1   \n",
       "\n",
       "   Parch     Ticket      Fare Cabin Embarked  Family Initial  \n",
       "0      0  A/5 21171  1.981001   NaN        S       2      Mr  \n",
       "1      0   PC 17599  4.266662   C85        C       2     Mrs  "
      ]
     },
     "execution_count": 11,
     "metadata": {},
     "output_type": "execute_result"
    }
   ],
   "source": [
    "train.head(2)"
   ]
  },
  {
   "cell_type": "code",
   "execution_count": 12,
   "metadata": {},
   "outputs": [
    {
     "name": "stdout",
     "output_type": "stream",
     "text": [
      "{'female': 0, 'male': 1}\n",
      "{'Master': 0, 'Miss': 1, 'Mr': 2, 'Mrs': 3, 'Other': 4}\n",
      "{'C': 0, 'Q': 1, 'S': 2}\n",
      "{'female': 0, 'male': 1}\n",
      "{'Master': 0, 'Miss': 1, 'Mr': 2, 'Mrs': 3, 'Other': 4}\n",
      "{'C': 0, 'Q': 1, 'S': 2}\n"
     ]
    }
   ],
   "source": [
    "number_encoding(train, ['Sex', 'Initial', 'Embarked'])\n",
    "number_encoding(test, ['Sex', 'Initial', 'Embarked'])"
   ]
  },
  {
   "cell_type": "code",
   "execution_count": 13,
   "metadata": {},
   "outputs": [
    {
     "data": {
      "text/html": [
       "<div>\n",
       "<style scoped>\n",
       "    .dataframe tbody tr th:only-of-type {\n",
       "        vertical-align: middle;\n",
       "    }\n",
       "\n",
       "    .dataframe tbody tr th {\n",
       "        vertical-align: top;\n",
       "    }\n",
       "\n",
       "    .dataframe thead th {\n",
       "        text-align: right;\n",
       "    }\n",
       "</style>\n",
       "<table border=\"1\" class=\"dataframe\">\n",
       "  <thead>\n",
       "    <tr style=\"text-align: right;\">\n",
       "      <th></th>\n",
       "      <th>PassengerId</th>\n",
       "      <th>Survived</th>\n",
       "      <th>Pclass</th>\n",
       "      <th>Name</th>\n",
       "      <th>Sex</th>\n",
       "      <th>Age</th>\n",
       "      <th>SibSp</th>\n",
       "      <th>Parch</th>\n",
       "      <th>Ticket</th>\n",
       "      <th>Fare</th>\n",
       "      <th>Cabin</th>\n",
       "      <th>Embarked</th>\n",
       "      <th>Family</th>\n",
       "      <th>Initial</th>\n",
       "    </tr>\n",
       "  </thead>\n",
       "  <tbody>\n",
       "    <tr>\n",
       "      <th>0</th>\n",
       "      <td>1</td>\n",
       "      <td>0</td>\n",
       "      <td>3</td>\n",
       "      <td>Braund, Mr. Owen Harris</td>\n",
       "      <td>1</td>\n",
       "      <td>22.0</td>\n",
       "      <td>1</td>\n",
       "      <td>0</td>\n",
       "      <td>A/5 21171</td>\n",
       "      <td>1.981001</td>\n",
       "      <td>NaN</td>\n",
       "      <td>2</td>\n",
       "      <td>2</td>\n",
       "      <td>2</td>\n",
       "    </tr>\n",
       "    <tr>\n",
       "      <th>1</th>\n",
       "      <td>2</td>\n",
       "      <td>1</td>\n",
       "      <td>1</td>\n",
       "      <td>Cumings, Mrs. John Bradley (Florence Briggs Th...</td>\n",
       "      <td>0</td>\n",
       "      <td>38.0</td>\n",
       "      <td>1</td>\n",
       "      <td>0</td>\n",
       "      <td>PC 17599</td>\n",
       "      <td>4.266662</td>\n",
       "      <td>C85</td>\n",
       "      <td>0</td>\n",
       "      <td>2</td>\n",
       "      <td>3</td>\n",
       "    </tr>\n",
       "  </tbody>\n",
       "</table>\n",
       "</div>"
      ],
      "text/plain": [
       "   PassengerId  Survived  Pclass  \\\n",
       "0            1         0       3   \n",
       "1            2         1       1   \n",
       "\n",
       "                                                Name  Sex   Age  SibSp  Parch  \\\n",
       "0                            Braund, Mr. Owen Harris    1  22.0      1      0   \n",
       "1  Cumings, Mrs. John Bradley (Florence Briggs Th...    0  38.0      1      0   \n",
       "\n",
       "      Ticket      Fare Cabin  Embarked  Family  Initial  \n",
       "0  A/5 21171  1.981001   NaN         2       2        2  \n",
       "1   PC 17599  4.266662   C85         0       2        3  "
      ]
     },
     "execution_count": 13,
     "metadata": {},
     "output_type": "execute_result"
    }
   ],
   "source": [
    "train.head(2)"
   ]
  },
  {
   "cell_type": "code",
   "execution_count": 14,
   "metadata": {},
   "outputs": [
    {
     "data": {
      "text/plain": [
       "<matplotlib.axes._subplots.AxesSubplot at 0x7fc258d33b38>"
      ]
     },
     "execution_count": 14,
     "metadata": {},
     "output_type": "execute_result"
    },
    {
     "data": {
      "image/png": "[encoded data removed]",
      "text/plain": [
       "<Figure size 432x288 with 2 Axes>"
      ]
     },
     "metadata": {
      "needs_background": "light"
     },
     "output_type": "display_data"
    }
   ],
   "source": [
    "heatmap = train[['Survived', 'Pclass', 'Sex', 'Fare', 'Embarked', 'Family', 'Initial', 'Age']]\n",
    "sns.heatmap(heatmap.astype(float).corr(), cmap=plt.cm.RdBu, annot=True)"
   ]
  },
  {
   "cell_type": "markdown",
   "metadata": {},
   "source": [
    "### Dropping Columns"
   ]
  },
  {
   "cell_type": "code",
   "execution_count": 15,
   "metadata": {},
   "outputs": [],
   "source": [
    "train.drop(['PassengerId', 'Name', 'SibSp', 'Parch', 'Ticket', 'Cabin'], axis=1, inplace=True)\n",
    "test.drop(['PassengerId', 'Name', 'SibSp', 'Parch', 'Ticket', 'Cabin'], axis=1, inplace=True)"
   ]
  },
  {
   "cell_type": "code",
   "execution_count": 16,
   "metadata": {
    "scrolled": true
   },
   "outputs": [
    {
     "data": {
      "text/html": [
       "<div>\n",
       "<style scoped>\n",
       "    .dataframe tbody tr th:only-of-type {\n",
       "        vertical-align: middle;\n",
       "    }\n",
       "\n",
       "    .dataframe tbody tr th {\n",
       "        vertical-align: top;\n",
       "    }\n",
       "\n",
       "    .dataframe thead th {\n",
       "        text-align: right;\n",
       "    }\n",
       "</style>\n",
       "<table border=\"1\" class=\"dataframe\">\n",
       "  <thead>\n",
       "    <tr style=\"text-align: right;\">\n",
       "      <th></th>\n",
       "      <th>Survived</th>\n",
       "      <th>Pclass</th>\n",
       "      <th>Sex</th>\n",
       "      <th>Age</th>\n",
       "      <th>Fare</th>\n",
       "      <th>Embarked</th>\n",
       "      <th>Family</th>\n",
       "      <th>Initial</th>\n",
       "    </tr>\n",
       "  </thead>\n",
       "  <tbody>\n",
       "    <tr>\n",
       "      <th>0</th>\n",
       "      <td>0</td>\n",
       "      <td>3</td>\n",
       "      <td>1</td>\n",
       "      <td>22.0</td>\n",
       "      <td>1.981001</td>\n",
       "      <td>2</td>\n",
       "      <td>2</td>\n",
       "      <td>2</td>\n",
       "    </tr>\n",
       "    <tr>\n",
       "      <th>1</th>\n",
       "      <td>1</td>\n",
       "      <td>1</td>\n",
       "      <td>0</td>\n",
       "      <td>38.0</td>\n",
       "      <td>4.266662</td>\n",
       "      <td>0</td>\n",
       "      <td>2</td>\n",
       "      <td>3</td>\n",
       "    </tr>\n",
       "  </tbody>\n",
       "</table>\n",
       "</div>"
      ],
      "text/plain": [
       "   Survived  Pclass  Sex   Age      Fare  Embarked  Family  Initial\n",
       "0         0       3    1  22.0  1.981001         2       2        2\n",
       "1         1       1    0  38.0  4.266662         0       2        3"
      ]
     },
     "execution_count": 16,
     "metadata": {},
     "output_type": "execute_result"
    }
   ],
   "source": [
    "train.head(2)"
   ]
  },
  {
   "cell_type": "markdown",
   "metadata": {},
   "source": [
    "## Building model"
   ]
  },
  {
   "cell_type": "code",
   "execution_count": 17,
   "metadata": {},
   "outputs": [],
   "source": [
    "import torch\n",
    "import torch.nn as nn\n",
    "import torch.optim as optim\n",
    "import torch.nn.functional as F\n",
    "import torch.utils.data as data_utils\n",
    "from torchvision import transforms"
   ]
  },
  {
   "cell_type": "markdown",
   "metadata": {},
   "source": [
    "### Datasets"
   ]
  },
  {
   "cell_type": "code",
   "execution_count": null,
   "metadata": {},
   "outputs": [],
   "source": []
  },
  {
   "cell_type": "code",
   "execution_count": 18,
   "metadata": {},
   "outputs": [],
   "source": [
    "train_X = train\n",
    "train_Y = tmp_Y = train['Survived'].values\n",
    "#died = [0, 1]\n",
    "#survived = [1, 0]\n",
    "is_died = lambda x: [1, 0] if x == 1 else [0, 1]\n",
    "train_Y = [is_died(i) for i in tmp_Y]\n",
    "del train['Survived']"
   ]
  },
  {
   "cell_type": "code",
   "execution_count": 20,
   "metadata": {},
   "outputs": [
    {
     "ename": "RuntimeError",
     "evalue": "Could not infer dtype of builtin_function_or_method",
     "output_type": "error",
     "traceback": [
      "\u001b[0;31m---------------------------------------------------------------------------\u001b[0m",
      "\u001b[0;31mRuntimeError\u001b[0m                              Traceback (most recent call last)",
      "\u001b[0;32m<ipython-input-20-992c8cc5e16e>\u001b[0m in \u001b[0;36m<module>\u001b[0;34m\u001b[0m\n\u001b[0;32m----> 1\u001b[0;31m \u001b[0mtrain_X\u001b[0m \u001b[0;34m=\u001b[0m \u001b[0mtorch\u001b[0m\u001b[0;34m.\u001b[0m\u001b[0mtensor\u001b[0m\u001b[0;34m(\u001b[0m\u001b[0mtrain_X\u001b[0m\u001b[0;34m.\u001b[0m\u001b[0mvalues\u001b[0m\u001b[0;34m)\u001b[0m\u001b[0;34m.\u001b[0m\u001b[0mfloat\u001b[0m\u001b[0;34m(\u001b[0m\u001b[0;34m)\u001b[0m\u001b[0;34m\u001b[0m\u001b[0;34m\u001b[0m\u001b[0m\n\u001b[0m\u001b[1;32m      2\u001b[0m \u001b[0mtrain_Y\u001b[0m \u001b[0;34m=\u001b[0m \u001b[0mtorch\u001b[0m\u001b[0;34m.\u001b[0m\u001b[0mtensor\u001b[0m\u001b[0;34m(\u001b[0m\u001b[0mtrain_Y\u001b[0m\u001b[0;34m)\u001b[0m\u001b[0;34m.\u001b[0m\u001b[0mlong\u001b[0m\u001b[0;34m(\u001b[0m\u001b[0;34m)\u001b[0m\u001b[0;34m\u001b[0m\u001b[0;34m\u001b[0m\u001b[0m\n",
      "\u001b[0;31mRuntimeError\u001b[0m: Could not infer dtype of builtin_function_or_method"
     ]
    }
   ],
   "source": [
    "train_X = torch.tensor(train_X.values).float()\n",
    "train_Y = torch.tensor(train_Y).long()"
   ]
  },
  {
   "cell_type": "code",
   "execution_count": 21,
   "metadata": {},
   "outputs": [
    {
     "name": "stdout",
     "output_type": "stream",
     "text": [
      "<class 'torch.Tensor'> <class 'torch.Tensor'>\n"
     ]
    }
   ],
   "source": [
    "print(type(train_X), type(train_Y))"
   ]
  },
  {
   "cell_type": "markdown",
   "metadata": {},
   "source": [
    "### Model"
   ]
  },
  {
   "cell_type": "code",
   "execution_count": 22,
   "metadata": {},
   "outputs": [
    {
     "data": {
      "text/plain": [
       "Died(\n",
       "  (linear): Linear(in_features=7, out_features=2, bias=True)\n",
       ")"
      ]
     },
     "execution_count": 22,
     "metadata": {},
     "output_type": "execute_result"
    }
   ],
   "source": [
    "class Died(nn.Module):\n",
    "    def __init__(self):\n",
    "        super(Died, self).__init__()\n",
    "        self.linear = nn.Linear(7, 2) #7 : input, 2 : output (died or survived)\n",
    "        \n",
    "    def forward(self, x):\n",
    "        return (self.linear(x))\n",
    "    \n",
    "died = Died()\n",
    "died"
   ]
  },
  {
   "cell_type": "code",
   "execution_count": 23,
   "metadata": {},
   "outputs": [],
   "source": [
    "train_set = data_utils.TensorDataset(train_X, train_Y)\n",
    "train_loader = data_utils.DataLoader(train_set, batch_size = 64, shuffle = True)"
   ]
  },
  {
   "cell_type": "code",
   "execution_count": 31,
   "metadata": {},
   "outputs": [],
   "source": [
    "optimizer = optim.Adam(died.parameters(), lr=0.01)\n",
    "get_loss = nn.CrossEntropyLoss()\n",
    "loss_graph = []"
   ]
  },
  {
   "cell_type": "code",
   "execution_count": 34,
   "metadata": {},
   "outputs": [
    {
     "ename": "RuntimeError",
     "evalue": "element 0 of tensors does not require grad and does not have a grad_fn",
     "output_type": "error",
     "traceback": [
      "\u001b[0;31m---------------------------------------------------------------------------\u001b[0m",
      "\u001b[0;31mRuntimeError\u001b[0m                              Traceback (most recent call last)",
      "\u001b[0;32m<ipython-input-34-d8f0a9a9d6db>\u001b[0m in \u001b[0;36m<module>\u001b[0;34m\u001b[0m\n\u001b[1;32m      9\u001b[0m         \u001b[0mout\u001b[0m \u001b[0;34m=\u001b[0m \u001b[0mdied\u001b[0m\u001b[0;34m(\u001b[0m\u001b[0mx\u001b[0m\u001b[0;34m)\u001b[0m\u001b[0;34m\u001b[0m\u001b[0;34m\u001b[0m\u001b[0m\n\u001b[1;32m     10\u001b[0m         \u001b[0mloss\u001b[0m \u001b[0;34m=\u001b[0m \u001b[0mget_loss\u001b[0m\u001b[0;34m(\u001b[0m\u001b[0mx\u001b[0m\u001b[0;34m,\u001b[0m \u001b[0mtorch\u001b[0m\u001b[0;34m.\u001b[0m\u001b[0mmax\u001b[0m\u001b[0;34m(\u001b[0m\u001b[0my\u001b[0m\u001b[0;34m,\u001b[0m \u001b[0;36m1\u001b[0m\u001b[0;34m)\u001b[0m\u001b[0;34m[\u001b[0m\u001b[0;36m1\u001b[0m\u001b[0;34m]\u001b[0m\u001b[0;34m)\u001b[0m\u001b[0;34m\u001b[0m\u001b[0;34m\u001b[0m\u001b[0m\n\u001b[0;32m---> 11\u001b[0;31m         \u001b[0mloss\u001b[0m\u001b[0;34m.\u001b[0m\u001b[0mbackward\u001b[0m\u001b[0;34m(\u001b[0m\u001b[0;34m)\u001b[0m\u001b[0;34m\u001b[0m\u001b[0;34m\u001b[0m\u001b[0m\n\u001b[0m\u001b[1;32m     12\u001b[0m         \u001b[0moptimizer\u001b[0m\u001b[0;34m.\u001b[0m\u001b[0mstep\u001b[0m\u001b[0;34m(\u001b[0m\u001b[0;34m)\u001b[0m\u001b[0;34m\u001b[0m\u001b[0;34m\u001b[0m\u001b[0m\n\u001b[1;32m     13\u001b[0m         \u001b[0mloss_graph\u001b[0m\u001b[0;34m.\u001b[0m\u001b[0mappend\u001b[0m\u001b[0;34m(\u001b[0m\u001b[0mloss\u001b[0m\u001b[0;34m.\u001b[0m\u001b[0mdata\u001b[0m\u001b[0;34m)\u001b[0m\u001b[0;34m\u001b[0m\u001b[0;34m\u001b[0m\u001b[0m\n",
      "\u001b[0;32m/usr/local/lib/python3.6/dist-packages/torch/tensor.py\u001b[0m in \u001b[0;36mbackward\u001b[0;34m(self, gradient, retain_graph, create_graph)\u001b[0m\n\u001b[1;32m    105\u001b[0m                 \u001b[0mproducts\u001b[0m\u001b[0;34m.\u001b[0m \u001b[0mDefaults\u001b[0m \u001b[0mto\u001b[0m\u001b[0;31m \u001b[0m\u001b[0;31m`\u001b[0m\u001b[0;31m`\u001b[0m\u001b[0;32mFalse\u001b[0m\u001b[0;31m`\u001b[0m\u001b[0;31m`\u001b[0m\u001b[0;34m.\u001b[0m\u001b[0;34m\u001b[0m\u001b[0;34m\u001b[0m\u001b[0m\n\u001b[1;32m    106\u001b[0m         \"\"\"\n\u001b[0;32m--> 107\u001b[0;31m         \u001b[0mtorch\u001b[0m\u001b[0;34m.\u001b[0m\u001b[0mautograd\u001b[0m\u001b[0;34m.\u001b[0m\u001b[0mbackward\u001b[0m\u001b[0;34m(\u001b[0m\u001b[0mself\u001b[0m\u001b[0;34m,\u001b[0m \u001b[0mgradient\u001b[0m\u001b[0;34m,\u001b[0m \u001b[0mretain_graph\u001b[0m\u001b[0;34m,\u001b[0m \u001b[0mcreate_graph\u001b[0m\u001b[0;34m)\u001b[0m\u001b[0;34m\u001b[0m\u001b[0;34m\u001b[0m\u001b[0m\n\u001b[0m\u001b[1;32m    108\u001b[0m \u001b[0;34m\u001b[0m\u001b[0m\n\u001b[1;32m    109\u001b[0m     \u001b[0;32mdef\u001b[0m \u001b[0mregister_hook\u001b[0m\u001b[0;34m(\u001b[0m\u001b[0mself\u001b[0m\u001b[0;34m,\u001b[0m \u001b[0mhook\u001b[0m\u001b[0;34m)\u001b[0m\u001b[0;34m:\u001b[0m\u001b[0;34m\u001b[0m\u001b[0;34m\u001b[0m\u001b[0m\n",
      "\u001b[0;32m/usr/local/lib/python3.6/dist-packages/torch/autograd/__init__.py\u001b[0m in \u001b[0;36mbackward\u001b[0;34m(tensors, grad_tensors, retain_graph, create_graph, grad_variables)\u001b[0m\n\u001b[1;32m     91\u001b[0m     Variable._execution_engine.run_backward(\n\u001b[1;32m     92\u001b[0m         \u001b[0mtensors\u001b[0m\u001b[0;34m,\u001b[0m \u001b[0mgrad_tensors\u001b[0m\u001b[0;34m,\u001b[0m \u001b[0mretain_graph\u001b[0m\u001b[0;34m,\u001b[0m \u001b[0mcreate_graph\u001b[0m\u001b[0;34m,\u001b[0m\u001b[0;34m\u001b[0m\u001b[0;34m\u001b[0m\u001b[0m\n\u001b[0;32m---> 93\u001b[0;31m         allow_unreachable=True)  # allow_unreachable flag\n\u001b[0m\u001b[1;32m     94\u001b[0m \u001b[0;34m\u001b[0m\u001b[0m\n\u001b[1;32m     95\u001b[0m \u001b[0;34m\u001b[0m\u001b[0m\n",
      "\u001b[0;31mRuntimeError\u001b[0m: element 0 of tensors does not require grad and does not have a grad_fn"
     ]
    }
   ],
   "source": [
    "from torch.autograd import Variable\n",
    "num_epoch = 10\n",
    "for epoch in range(num_epoch):\n",
    "    for x, y in train_loader:\n",
    "        \n",
    "        x = Variable(x)\n",
    "        y = Variable(y)\n",
    "        optimizer.zero_grad()\n",
    "        out = died(x)\n",
    "        loss = get_loss(x, torch.max(y, 1)[1])\n",
    "        loss.backward()\n",
    "        optimizer.step()\n",
    "        loss_graph.append(loss.data)"
   ]
  },
  {
   "cell_type": "code",
   "execution_count": 33,
   "metadata": {},
   "outputs": [
    {
     "name": "stdout",
     "output_type": "stream",
     "text": [
      "Last Loss Value : 32.214420318603516\n"
     ]
    },
    {
     "data": {
      "image/png": "[encoded data removed]",
      "text/plain": [
       "<Figure size 432x288 with 1 Axes>"
      ]
     },
     "metadata": {
      "needs_background": "light"
     },
     "output_type": "display_data"
    }
   ],
   "source": [
    "plt.plot(loss_graph)\n",
    "print('Last Loss Value : {}'.format(loss_graph[-1]))"
   ]
  },
  {
   "cell_type": "markdown",
   "metadata": {},
   "source": [
    "## Accuracy"
   ]
  },
  {
   "cell_type": "code",
   "execution_count": null,
   "metadata": {},
   "outputs": [],
   "source": [
    "# Test the Model\n",
    "correct = 0\n",
    "total = 0\n",
    "for x, y in train_loader:\n",
    "    x = out\n",
    "    outputs = model(images)\n",
    "    _, predicted = torch.max(out.data, 1)\n",
    "    total += train_X.size(0)\n",
    "    correct += (predicted == labels).sum()"
   ]
  }
 ],
 "metadata": {
  "kernelspec": {
   "display_name": "Python 3",
   "language": "python",
   "name": "python3"
  },
  "language_info": {
   "codemirror_mode": {
    "name": "ipython",
    "version": 3
   },
   "file_extension": ".py",
   "mimetype": "text/x-python",
   "name": "python",
   "nbconvert_exporter": "python",
   "pygments_lexer": "ipython3",
   "version": "3.6.8"
  }
 },
 "nbformat": 4,
 "nbformat_minor": 2
}
