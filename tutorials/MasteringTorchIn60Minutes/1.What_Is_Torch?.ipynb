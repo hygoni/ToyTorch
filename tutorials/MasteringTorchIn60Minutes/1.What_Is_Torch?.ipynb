{
 "cells": [
  {
   "cell_type": "code",
   "execution_count": 1,
   "metadata": {},
   "outputs": [],
   "source": [
    "from __future__ import print_function\n",
    "import torch\n",
    "import numpy as np"
   ]
  },
  {
   "cell_type": "code",
   "execution_count": 2,
   "metadata": {},
   "outputs": [
    {
     "name": "stdout",
     "output_type": "stream",
     "text": [
      "tensor([[1.3563e-19, 1.3563e-19, 1.3563e-19],\n",
      "        [1.3563e-19, 1.3563e-19, 1.3563e-19],\n",
      "        [1.2456e-11, 6.6377e-07, 1.4588e-19],\n",
      "        [2.5348e-09, 8.1609e+17, 2.4068e-12],\n",
      "        [1.3563e-19, 1.3563e-19, 1.3563e-19]])\n",
      "<class 'torch.Tensor'>\n"
     ]
    }
   ],
   "source": [
    "tensor = torch.Tensor(5, 3) #not unintializec\n",
    "print(tensor)\n",
    "print(type(tensor))"
   ]
  },
  {
   "cell_type": "code",
   "execution_count": 3,
   "metadata": {},
   "outputs": [
    {
     "name": "stdout",
     "output_type": "stream",
     "text": [
      "tensor([[0.5035, 0.7025, 0.0722],\n",
      "        [0.4033, 0.1283, 0.0564],\n",
      "        [0.9085, 0.6131, 0.2158],\n",
      "        [0.3029, 0.1090, 0.3584],\n",
      "        [0.9948, 0.0236, 0.5116]])\n",
      "<class 'torch.Tensor'>\n"
     ]
    }
   ],
   "source": [
    "tensor = torch.rand(5,3) #randomly initialized tensor\n",
    "print(tensor) \n",
    "print(type(tensor))"
   ]
  },
  {
   "cell_type": "code",
   "execution_count": 4,
   "metadata": {},
   "outputs": [
    {
     "name": "stdout",
     "output_type": "stream",
     "text": [
      "torch.Size([5, 3])\n"
     ]
    },
    {
     "data": {
      "text/plain": [
       "(5, 3)"
      ]
     },
     "execution_count": 4,
     "metadata": {},
     "output_type": "execute_result"
    }
   ],
   "source": [
    "print(tensor.size()) # == equals to tuple\n",
    "tuple(tensor.size())"
   ]
  },
  {
   "cell_type": "code",
   "execution_count": 5,
   "metadata": {},
   "outputs": [
    {
     "name": "stdout",
     "output_type": "stream",
     "text": [
      "tensor([[0.1797]]) tensor([[0.2597]])\n",
      "tensor([[0.4394]])\n",
      "tensor([[0.1797]]) tensor([[0.2597]])\n"
     ]
    }
   ],
   "source": [
    "t1 = torch.rand(1,1)\n",
    "t2 = torch.rand(1,1)\n",
    "print(t1, t2)\n",
    "print(torch.add(t1, t2)) # == t1+t2\n",
    "print(t1, t2) #the add opeartion doesn't change its real value"
   ]
  },
  {
   "cell_type": "code",
   "execution_count": 6,
   "metadata": {},
   "outputs": [
    {
     "name": "stdout",
     "output_type": "stream",
     "text": [
      "tensor([[0.1797]])\n",
      "tensor([[0.4394]])\n"
     ]
    }
   ],
   "source": [
    "print(t1)\n",
    "t1.add_(t2) #in-place add function. the underbar is in-place suffix\n",
    "print(t1)"
   ]
  },
  {
   "cell_type": "code",
   "execution_count": 7,
   "metadata": {},
   "outputs": [
    {
     "name": "stdout",
     "output_type": "stream",
     "text": [
      "torch.Size([8, 3])\n"
     ]
    }
   ],
   "source": [
    "print(torch.rand(10,10)[2:, :3].size()) #indexing"
   ]
  },
  {
   "cell_type": "code",
   "execution_count": 8,
   "metadata": {},
   "outputs": [
    {
     "name": "stdout",
     "output_type": "stream",
     "text": [
      "torch.Size([8, 2])\n",
      "torch.Size([16])\n"
     ]
    }
   ],
   "source": [
    "#editing shape\n",
    "x = torch.randn(4,4)\n",
    "print(x.view(-1, 2).size())\n",
    "print(x.view(16).size())"
   ]
  },
  {
   "cell_type": "code",
   "execution_count": 9,
   "metadata": {},
   "outputs": [
    {
     "data": {
      "text/plain": [
       "array([[1., 1.]], dtype=float32)"
      ]
     },
     "execution_count": 9,
     "metadata": {},
     "output_type": "execute_result"
    }
   ],
   "source": [
    "torch.ones(1,2).numpy() #converting to ndarray"
   ]
  },
  {
   "cell_type": "code",
   "execution_count": 10,
   "metadata": {},
   "outputs": [
    {
     "name": "stdout",
     "output_type": "stream",
     "text": [
      "[2. 2. 2. 2. 2.]\n",
      "tensor([2., 2., 2., 2., 2.], dtype=torch.float64)\n"
     ]
    }
   ],
   "source": [
    "a = np.ones(5)\n",
    "b = torch.from_numpy(a)\n",
    "print(np.add(a, 1, out=a))\n",
    "print(b) #Changed!"
   ]
  },
  {
   "cell_type": "code",
   "execution_count": 11,
   "metadata": {},
   "outputs": [
    {
     "name": "stdout",
     "output_type": "stream",
     "text": [
      "cuda is not available!\n"
     ]
    }
   ],
   "source": [
    "if torch.cuda.is_available():\n",
    "    print('cuda is available!')\n",
    "    x = x.cuda()\n",
    "    y = y.cuda()\n",
    "    x + y\n",
    "else:\n",
    "    print('cuda is not available!')"
   ]
  }
 ],
 "metadata": {
  "kernelspec": {
   "display_name": "Python 3",
   "language": "python",
   "name": "python3"
  },
  "language_info": {
   "codemirror_mode": {
    "name": "ipython",
    "version": 3
   },
   "file_extension": ".py",
   "mimetype": "text/x-python",
   "name": "python",
   "nbconvert_exporter": "python",
   "pygments_lexer": "ipython3",
   "version": "3.6.8"
  }
 },
 "nbformat": 4,
 "nbformat_minor": 2
}
