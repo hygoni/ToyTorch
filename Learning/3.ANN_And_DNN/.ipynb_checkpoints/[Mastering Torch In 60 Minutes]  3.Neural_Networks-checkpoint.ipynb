{
 "cells": [
  {
   "cell_type": "code",
   "execution_count": 29,
   "metadata": {},
   "outputs": [],
   "source": [
    "import torch\n",
    "import torch.nn as nn\n",
    "import torch.nn.functional as F"
   ]
  },
  {
   "cell_type": "code",
   "execution_count": 39,
   "metadata": {},
   "outputs": [
    {
     "name": "stdout",
     "output_type": "stream",
     "text": [
      "CNN(\n",
      "  (conv1): Conv2d(1, 6, kernel_size=(5, 5), stride=(1, 1))\n",
      "  (conv2): Conv2d(6, 16, kernel_size=(5, 5), stride=(1, 1))\n",
      "  (fc1): Linear(in_features=400, out_features=128, bias=True)\n",
      "  (fc2): Linear(in_features=128, out_features=84, bias=True)\n",
      "  (fc3): Linear(in_features=84, out_features=10, bias=True)\n",
      ")\n"
     ]
    }
   ],
   "source": [
    "#A simple CNN network\n",
    "\n",
    "class CNN(nn.Module):\n",
    "    def __init__(self):\n",
    "        super(CNN, self).__init__()\n",
    "        self.conv1 = nn.Conv2d(1, 6, 5)\n",
    "        self.conv2 = nn.Conv2d(6, 16, 5)\n",
    "        \n",
    "        self.fc1 = nn.Linear(16 * 5 * 5, 128)\n",
    "        self.fc2 = nn.Linear(128, 84)\n",
    "        self.fc3 = nn.Linear(84, 10)\n",
    "        \n",
    "    def forward(self, x):\n",
    "        x = F.max_pool2d(F.relu(self.conv1(x)), (2,2))\n",
    "        x = F.max_pool2d(F.relu(self.conv2(x)), 2)\n",
    "        x = x.view(-1, self.num_flat_features(x))\n",
    "        x = F.relu(self.fc1(x))\n",
    "        x = F.relu(self.fc2(x))\n",
    "        x = self.fc3(x)\n",
    "        return x\n",
    "    def num_flat_features(self, x):\n",
    "        size = x.size()[1:]\n",
    "        num_features = 1\n",
    "        for s in size:\n",
    "            num_features *= s\n",
    "        return num_features\n",
    "    \n",
    "cnn = CNN()\n",
    "print(cnn)"
   ]
  },
  {
   "cell_type": "code",
   "execution_count": 40,
   "metadata": {},
   "outputs": [
    {
     "name": "stdout",
     "output_type": "stream",
     "text": [
      "10\n",
      "Weight : torch.Size([6, 1, 5, 5])\n",
      "Bias : torch.Size([6])\n",
      "Weight : torch.Size([16, 6, 5, 5])\n",
      "Bias : torch.Size([16])\n",
      "Weight : torch.Size([128, 400])\n",
      "Bias : torch.Size([128])\n",
      "Weight : torch.Size([84, 128])\n",
      "Bias : torch.Size([84])\n",
      "Weight : torch.Size([10, 84])\n",
      "Bias : torch.Size([10])\n",
      "\n",
      "5 weights and 5 biases in total\n"
     ]
    }
   ],
   "source": [
    "params = list(cnn.parameters()) #list of Hyper parameters\n",
    "print(len(params))\n",
    "n_weights = 0\n",
    "n_biases = 0\n",
    "for p in params:\n",
    "    if len(p.size())== 1:\n",
    "        desc = 'Bias'\n",
    "        n_biases += 1\n",
    "    else:\n",
    "        desc = 'Weight'\n",
    "        n_weights += 1\n",
    "    print('{} : {}'.format(desc, p.size()))\n",
    "print('\\n' + '{} weights and {} biases in total'.format(n_weights, n_biases))"
   ]
  },
  {
   "cell_type": "code",
   "execution_count": 48,
   "metadata": {},
   "outputs": [
    {
     "name": "stdout",
     "output_type": "stream",
     "text": [
      "tensor([[ 3.9867e-02, -5.2523e-02,  6.9867e-02,  1.5879e-01, -4.3616e-03,\n",
      "         -1.4859e-02,  1.2198e-01, -6.3357e-02,  7.8321e-05,  1.1437e-03]],\n",
      "       grad_fn=<AddmmBackward>)\n",
      "tensor(0.1588, grad_fn=<MaxBackward1>) tensor(3)\n"
     ]
    }
   ],
   "source": [
    "rand_img = torch.randn(1,1,32,32)\n",
    "out = cnn(rand_img)\n",
    "print(out)\n",
    "print(out.max(), out.argmax())"
   ]
  },
  {
   "cell_type": "code",
   "execution_count": null,
   "metadata": {},
   "outputs": [],
   "source": []
  }
 ],
 "metadata": {
  "kernelspec": {
   "display_name": "Python 3",
   "language": "python",
   "name": "python3"
  },
  "language_info": {
   "codemirror_mode": {
    "name": "ipython",
    "version": 3
   },
   "file_extension": ".py",
   "mimetype": "text/x-python",
   "name": "python",
   "nbconvert_exporter": "python",
   "pygments_lexer": "ipython3",
   "version": "3.6.8"
  }
 },
 "nbformat": 4,
 "nbformat_minor": 2
}
