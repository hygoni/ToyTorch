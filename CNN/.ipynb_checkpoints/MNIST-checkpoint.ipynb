{
 "cells": [
  {
   "cell_type": "code",
   "execution_count": 0,
   "metadata": {
    "colab": {},
    "colab_type": "code",
    "id": "L--43aeyauWn"
   },
   "outputs": [],
   "source": [
    "import torch\n",
    "import torch.nn as nn\n",
    "import torch.nn.functional as F\n",
    "from torch.utils.data import DataLoader, TensorDataset\n",
    "import torch.optim as optim\n",
    "from torchvision import datasets, transforms\n",
    "import itertools\n",
    "\n",
    "import pandas as pd\n",
    "\n",
    "from matplotlib import pyplot as plt\n",
    "\n",
    "\n",
    "import numpy as np\n",
    "\n",
    "%matplotlib inline"
   ]
  },
  {
   "cell_type": "code",
   "execution_count": 2,
   "metadata": {
    "colab": {
     "base_uri": "https://localhost:8080/",
     "height": 35
    },
    "colab_type": "code",
    "id": "jbh0VmEKvoJC",
    "outputId": "f46cd143-77ac-4b8e-a764-72a532034fd8"
   },
   "outputs": [
    {
     "data": {
      "text/plain": [
       "'Tesla T4'"
      ]
     },
     "execution_count": 2,
     "metadata": {
      "tags": []
     },
     "output_type": "execute_result"
    }
   ],
   "source": [
    "torch.cuda.get_device_name()"
   ]
  },
  {
   "cell_type": "code",
   "execution_count": 12,
   "metadata": {
    "colab": {
     "base_uri": "https://localhost:8080/",
     "height": 289
    },
    "colab_type": "code",
    "id": "vZJ6sWyWazcV",
    "outputId": "4bb7b360-a31d-4891-93d2-e7dd8006484d"
   },
   "outputs": [
    {
     "name": "stderr",
     "output_type": "stream",
     "text": [
      "  0%|          | 16384/9912422 [00:00<01:29, 110297.76it/s]"
     ]
    },
    {
     "name": "stdout",
     "output_type": "stream",
     "text": [
      "Downloading http://yann.lecun.com/exdb/mnist/train-images-idx3-ubyte.gz to ../data/MNIST/raw/train-images-idx3-ubyte.gz\n"
     ]
    },
    {
     "name": "stderr",
     "output_type": "stream",
     "text": [
      "9920512it [00:00, 22835064.32it/s]                           \n"
     ]
    },
    {
     "name": "stdout",
     "output_type": "stream",
     "text": [
      "Extracting ../data/MNIST/raw/train-images-idx3-ubyte.gz\n"
     ]
    },
    {
     "name": "stderr",
     "output_type": "stream",
     "text": [
      "32768it [00:00, 327456.25it/s]\n",
      "0it [00:00, ?it/s]"
     ]
    },
    {
     "name": "stdout",
     "output_type": "stream",
     "text": [
      "Downloading http://yann.lecun.com/exdb/mnist/train-labels-idx1-ubyte.gz to ../data/MNIST/raw/train-labels-idx1-ubyte.gz\n",
      "Extracting ../data/MNIST/raw/train-labels-idx1-ubyte.gz\n",
      "Downloading http://yann.lecun.com/exdb/mnist/t10k-images-idx3-ubyte.gz to ../data/MNIST/raw/t10k-images-idx3-ubyte.gz\n"
     ]
    },
    {
     "name": "stderr",
     "output_type": "stream",
     "text": [
      "1654784it [00:00, 5197031.80it/s]                           \n",
      "8192it [00:00, 131362.14it/s]\n"
     ]
    },
    {
     "name": "stdout",
     "output_type": "stream",
     "text": [
      "Extracting ../data/MNIST/raw/t10k-images-idx3-ubyte.gz\n",
      "Downloading http://yann.lecun.com/exdb/mnist/t10k-labels-idx1-ubyte.gz to ../data/MNIST/raw/t10k-labels-idx1-ubyte.gz\n",
      "Extracting ../data/MNIST/raw/t10k-labels-idx1-ubyte.gz\n",
      "Processing...\n",
      "Done!\n"
     ]
    }
   ],
   "source": [
    "batch_size = 100\n",
    "train_set = datasets.MNIST('../data/', download=True, train=True, transform=transforms.Compose([transforms.ToTensor(), transforms.Normalize((0.1307, ), (0.3081, ))]))\n",
    "train_loader = torch.utils.data.DataLoader(train_set, batch_size=batch_size, shuffle=True)"
   ]
  },
  {
   "cell_type": "code",
   "execution_count": 0,
   "metadata": {
    "colab": {},
    "colab_type": "code",
    "id": "p7uYTfa8wd22"
   },
   "outputs": [],
   "source": [
    "test_set = datasets.MNIST('../data/', download=False, train=False, transform=transforms.Compose([transforms.ToTensor(), transforms.Normalize((0.1307, ), (0.3081, ))]))\n",
    "test_loader = torch.utils.data.DataLoader(train_set, batch_size=batch_size, shuffle=True)"
   ]
  },
  {
   "cell_type": "code",
   "execution_count": 0,
   "metadata": {
    "colab": {},
    "colab_type": "code",
    "id": "e2yEw2bYa2fi"
   },
   "outputs": [],
   "source": [
    "data = next(iter(train_loader))\n",
    "img, label = data"
   ]
  },
  {
   "cell_type": "code",
   "execution_count": 16,
   "metadata": {
    "colab": {
     "base_uri": "https://localhost:8080/",
     "height": 53
    },
    "colab_type": "code",
    "id": "WBKUIRSfxa40",
    "outputId": "2d0f9f75-a558-488f-9b17-8bafdbddf42d"
   },
   "outputs": [
    {
     "name": "stdout",
     "output_type": "stream",
     "text": [
      "torch.Size([100, 1, 28, 28])\n",
      "torch.Size([100])\n"
     ]
    }
   ],
   "source": [
    "print(img.size())\n",
    "print(label.size())"
   ]
  },
  {
   "cell_type": "code",
   "execution_count": 17,
   "metadata": {
    "colab": {
     "base_uri": "https://localhost:8080/",
     "height": 357
    },
    "colab_type": "code",
    "id": "XrcCxPzNbM_A",
    "outputId": "86da964c-bfd3-4527-89f0-99c8b566b592"
   },
   "outputs": [
    {
     "data": {
      "image/png": "[encoded data removed]",
      "text/plain": [
       "<Figure size 432x432 with 16 Axes>"
      ]
     },
     "metadata": {
      "tags": []
     },
     "output_type": "display_data"
    }
   ],
   "source": [
    "row = 4\n",
    "col = 4\n",
    "fig, ax = plt.subplots(row, col, figsize=(6,6))\n",
    "for i, j in itertools.product(range(row), range(col)):\n",
    "  ax[i, j].get_yaxis().set_visible(False)\n",
    "  ax[i, j].get_xaxis().set_visible(False)\n",
    "for k in range(row * col):\n",
    "  i = k // col\n",
    "  j = k % col\n",
    "  ax[i, j].cla()\n",
    "  ax[i, j].imshow(img[k, :].data.cpu().numpy().reshape(28, 28), cmap='Greys')"
   ]
  },
  {
   "cell_type": "code",
   "execution_count": 0,
   "metadata": {
    "colab": {},
    "colab_type": "code",
    "id": "WkriaZCPb3jZ"
   },
   "outputs": [],
   "source": [
    "cuda = torch.cuda.is_available()\n",
    "\n",
    "class Net(nn.Module):\n",
    "  def __init__(self):\n",
    "    super(Net, self).__init__()\n",
    "    self.conv = nn.Sequential(\n",
    "        nn.Conv2d(1, 6, 5), # 6 @ 24 * 24\n",
    "        nn.ReLU(),\n",
    "        nn.MaxPool2d(2), # 6 @ 12 * 12\n",
    "        nn.Conv2d(6, 16, 5), # 16 @ 8 * 8\n",
    "        nn.ReLU(),\n",
    "        nn.MaxPool2d(2) # 16 @ 4 * 4\n",
    "\n",
    "    )\n",
    "    self.fc = nn.Sequential(\n",
    "        nn.Linear(16 * 4 * 4, 120),\n",
    "        nn.ReLU(),\n",
    "        nn.Linear(120, 84),\n",
    "        nn.ReLU(),\n",
    "        nn.Linear(84, 10)\n",
    "    \n",
    "    )\n",
    "    \n",
    "    if cuda:\n",
    "      self.conv = self.conv.cuda()\n",
    "      self.fc = self.fc.cuda()\n",
    "    \n",
    "    \n",
    "  def forward(self, x):\n",
    "    out = self.conv(x)\n",
    "    dim = 1\n",
    "    for d in out.size()[1:]:\n",
    "      dim = dim * d\n",
    "    out = out.view(-1, dim)\n",
    "    out = self.fc(out)\n",
    "    return F.softmax(out, dim = 1)\n",
    "    \n",
    "    "
   ]
  },
  {
   "cell_type": "code",
   "execution_count": 19,
   "metadata": {
    "colab": {
     "base_uri": "https://localhost:8080/",
     "height": 323
    },
    "colab_type": "code",
    "id": "x8mJYpSgmuGk",
    "outputId": "398fc368-2a0b-4cd9-fbf5-af36ceea4784"
   },
   "outputs": [
    {
     "data": {
      "text/plain": [
       "Net(\n",
       "  (conv): Sequential(\n",
       "    (0): Conv2d(1, 6, kernel_size=(5, 5), stride=(1, 1))\n",
       "    (1): ReLU()\n",
       "    (2): MaxPool2d(kernel_size=2, stride=2, padding=0, dilation=1, ceil_mode=False)\n",
       "    (3): Conv2d(6, 16, kernel_size=(5, 5), stride=(1, 1))\n",
       "    (4): ReLU()\n",
       "    (5): MaxPool2d(kernel_size=2, stride=2, padding=0, dilation=1, ceil_mode=False)\n",
       "  )\n",
       "  (fc): Sequential(\n",
       "    (0): Linear(in_features=256, out_features=120, bias=True)\n",
       "    (1): ReLU()\n",
       "    (2): Linear(in_features=120, out_features=84, bias=True)\n",
       "    (3): ReLU()\n",
       "    (4): Linear(in_features=84, out_features=10, bias=True)\n",
       "  )\n",
       ")"
      ]
     },
     "execution_count": 19,
     "metadata": {
      "tags": []
     },
     "output_type": "execute_result"
    }
   ],
   "source": [
    "model = Net()\n",
    "model"
   ]
  },
  {
   "cell_type": "code",
   "execution_count": 23,
   "metadata": {
    "colab": {
     "base_uri": "https://localhost:8080/",
     "height": 1000
    },
    "colab_type": "code",
    "id": "FC0MVFArpCRi",
    "outputId": "e0be3017-dad8-4787-e1a4-fc980d6f6a4d"
   },
   "outputs": [
    {
     "name": "stdout",
     "output_type": "stream",
     "text": [
      "tensor(1.4712, device='cuda:0')\n",
      "tensor(1.4704, device='cuda:0')\n",
      "tensor(1.4612, device='cuda:0')\n",
      "tensor(1.4628, device='cuda:0')\n",
      "tensor(1.4612, device='cuda:0')\n",
      "tensor(1.4812, device='cuda:0')\n",
      "tensor(1.4680, device='cuda:0')\n",
      "tensor(1.4909, device='cuda:0')\n",
      "tensor(1.4612, device='cuda:0')\n",
      "tensor(1.4705, device='cuda:0')\n",
      "tensor(1.4729, device='cuda:0')\n",
      "tensor(1.4711, device='cuda:0')\n",
      "tensor(1.4938, device='cuda:0')\n",
      "tensor(1.4612, device='cuda:0')\n",
      "tensor(1.4761, device='cuda:0')\n",
      "tensor(1.4812, device='cuda:0')\n",
      "tensor(1.4709, device='cuda:0')\n",
      "tensor(1.4619, device='cuda:0')\n",
      "tensor(1.4612, device='cuda:0')\n",
      "tensor(1.4709, device='cuda:0')\n",
      "tensor(1.4712, device='cuda:0')\n",
      "tensor(1.4614, device='cuda:0')\n",
      "tensor(1.4612, device='cuda:0')\n",
      "tensor(1.4706, device='cuda:0')\n",
      "tensor(1.4711, device='cuda:0')\n",
      "tensor(1.4743, device='cuda:0')\n",
      "tensor(1.4618, device='cuda:0')\n",
      "tensor(1.4612, device='cuda:0')\n",
      "tensor(1.4712, device='cuda:0')\n",
      "tensor(1.4628, device='cuda:0')\n",
      "tensor(1.4811, device='cuda:0')\n",
      "tensor(1.4717, device='cuda:0')\n",
      "tensor(1.4651, device='cuda:0')\n",
      "tensor(1.4614, device='cuda:0')\n",
      "tensor(1.4619, device='cuda:0')\n",
      "tensor(1.4811, device='cuda:0')\n",
      "tensor(1.4808, device='cuda:0')\n",
      "tensor(1.4806, device='cuda:0')\n",
      "tensor(1.4729, device='cuda:0')\n",
      "tensor(1.4713, device='cuda:0')\n",
      "tensor(1.4817, device='cuda:0')\n",
      "tensor(1.4712, device='cuda:0')\n",
      "tensor(1.4612, device='cuda:0')\n",
      "tensor(1.4717, device='cuda:0')\n",
      "tensor(1.4712, device='cuda:0')\n",
      "tensor(1.4612, device='cuda:0')\n",
      "tensor(1.4673, device='cuda:0')\n",
      "tensor(1.4712, device='cuda:0')\n",
      "tensor(1.4708, device='cuda:0')\n",
      "tensor(1.4676, device='cuda:0')\n",
      "tensor(1.4705, device='cuda:0')\n",
      "tensor(1.4612, device='cuda:0')\n",
      "tensor(1.4712, device='cuda:0')\n",
      "tensor(1.4812, device='cuda:0')\n",
      "tensor(1.4911, device='cuda:0')\n",
      "tensor(1.4750, device='cuda:0')\n",
      "tensor(1.4612, device='cuda:0')\n",
      "tensor(1.4612, device='cuda:0')\n",
      "tensor(1.4717, device='cuda:0')\n",
      "tensor(1.4722, device='cuda:0')\n"
     ]
    }
   ],
   "source": [
    "crit = nn.CrossEntropyLoss()\n",
    "optimizer = optim.Adam(model.parameters(), lr = 0.001)\n",
    "loss_graph = list()\n",
    "for epoch in range(5):\n",
    "  mean_loss = 0\n",
    "  for i, data in enumerate(train_loader):\n",
    "    x, y = data\n",
    "    if cuda:\n",
    "      x = x.cuda()\n",
    "      y = y.cuda()\n",
    "    optimizer.zero_grad()\n",
    "    out = model(x)\n",
    "    loss = crit(out, y)\n",
    "    loss.backward()\n",
    "    optimizer.step()\n",
    "    loss_graph.append(loss.data)\n",
    "    mean_loss += loss.data\n",
    "    if(i % 50 == 49):\n",
    "      print(loss_graph[-1])"
   ]
  },
  {
   "cell_type": "code",
   "execution_count": 21,
   "metadata": {
    "colab": {
     "base_uri": "https://localhost:8080/",
     "height": 287
    },
    "colab_type": "code",
    "id": "L3oDQJdQpiIP",
    "outputId": "0c467dd7-59e8-45d8-c0c2-b8a52d51b6b4"
   },
   "outputs": [
    {
     "data": {
      "text/plain": [
       "[<matplotlib.lines.Line2D at 0x7fbb80041780>]"
      ]
     },
     "execution_count": 21,
     "metadata": {
      "tags": []
     },
     "output_type": "execute_result"
    },
    {
     "data": {
      "image/png": "[encoded data removed]",
      "text/plain": [
       "<Figure size 432x288 with 1 Axes>"
      ]
     },
     "metadata": {
      "tags": []
     },
     "output_type": "display_data"
    }
   ],
   "source": [
    "plt.plot(loss_graph)"
   ]
  },
  {
   "cell_type": "code",
   "execution_count": 26,
   "metadata": {
    "colab": {
     "base_uri": "https://localhost:8080/",
     "height": 35
    },
    "colab_type": "code",
    "id": "ZBG6q5-0te-m",
    "outputId": "58cd16c3-08e7-40bc-c344-b42bc006b81d"
   },
   "outputs": [
    {
     "name": "stdout",
     "output_type": "stream",
     "text": [
      "accuracy : 99.24\n"
     ]
    }
   ],
   "source": [
    "#test set accuracy\n",
    "test_loss_graph = list()\n",
    "with torch.no_grad():\n",
    "  right = 0\n",
    "  total = 0\n",
    "  for i, data in enumerate(test_loader):\n",
    "    x, y = data\n",
    "    if cuda:\n",
    "      x = x.cuda()\n",
    "      y = y.cuda()\n",
    "    out = model(x)\n",
    "    loss = crit(out, y)\n",
    "    test_loss_graph.append(loss)\n",
    "    answer = out.argmax(dim = 1)\n",
    "    right_answer = label[answer == y].size(0)\n",
    "    right += right_answer\n",
    "    total += y.size(0)\n",
    "print('accuracy : {:.2f}'.format(100 * right / total))"
   ]
  },
  {
   "cell_type": "code",
   "execution_count": 27,
   "metadata": {
    "colab": {
     "base_uri": "https://localhost:8080/",
     "height": 287
    },
    "colab_type": "code",
    "id": "D761uIc634DF",
    "outputId": "55ebbefd-babb-43f7-bbcc-2e8181aa24e3"
   },
   "outputs": [
    {
     "data": {
      "text/plain": [
       "[<matplotlib.lines.Line2D at 0x7fbb3bcb3ba8>]"
      ]
     },
     "execution_count": 27,
     "metadata": {
      "tags": []
     },
     "output_type": "execute_result"
    },
    {
     "data": {
      "image/png": "[encoded data removed]",
      "text/plain": [
       "<Figure size 432x288 with 1 Axes>"
      ]
     },
     "metadata": {
      "tags": []
     },
     "output_type": "display_data"
    }
   ],
   "source": [
    "plt.plot(test_loss_graph)"
   ]
  }
 ],
 "metadata": {
  "accelerator": "GPU",
  "colab": {
   "collapsed_sections": [],
   "name": "MNIST.ipynb",
   "provenance": [],
   "version": "0.3.2"
  },
  "kernelspec": {
   "display_name": "Python 3",
   "name": "python3"
  }
 },
 "nbformat": 4,
 "nbformat_minor": 0
}
