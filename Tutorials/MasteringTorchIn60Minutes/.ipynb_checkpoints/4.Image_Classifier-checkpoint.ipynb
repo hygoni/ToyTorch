{
 "cells": [
  {
   "cell_type": "code",
   "execution_count": 29,
   "metadata": {},
   "outputs": [],
   "source": [
    "import torch\n",
    "import torchvision\n",
    "import torchvision.transforms as transforms\n",
    "\n",
    "import matplotlib.pyplot as plt\n",
    "import numpy as np\n",
    "\n",
    "import torch.nn as nn\n",
    "import torch.nn.functional as F\n",
    "\n",
    "import torch.optim as optim\n"
   ]
  },
  {
   "cell_type": "code",
   "execution_count": 11,
   "metadata": {},
   "outputs": [],
   "source": [
    "def imshow(img):\n",
    "    img = img / 2 + 0.5 #unnormalize????\n",
    "    npimg = img.numpy()\n",
    "    plt.imshow(np.transpose(npimg, (1,2,0)))"
   ]
  },
  {
   "cell_type": "code",
   "execution_count": 6,
   "metadata": {},
   "outputs": [],
   "source": [
    "transform = transforms.Compose([transforms.ToTensor(),\n",
    "                               transforms.Normalize((0.5, 0.5, 0.5), (0.5, 0.5, 0.5))])"
   ]
  },
  {
   "cell_type": "code",
   "execution_count": 20,
   "metadata": {},
   "outputs": [
    {
     "name": "stdout",
     "output_type": "stream",
     "text": [
      "Files already downloaded and verified\n",
      "Files already downloaded and verified\n"
     ]
    }
   ],
   "source": [
    "trainSet = torchvision.datasets.CIFAR10(root='./data', train=True, transform=transform, download=True)\n",
    "trainLoader = torch.utils.data.DataLoader(trainSet, batch_size=3, shuffle=True, num_workers = 2)\n",
    "\n",
    "testSet = torchvision.datasets.CIFAR10(root='./data', train=False, transform=transform, download=True)\n",
    "testLoader = torch.utils.data.DataLoader(testSet, batch_size=3, shuffle=False, num_workers=2)\n",
    "\n",
    "\n",
    "classes = ('plane', 'car', 'bird', 'cat',\n",
    "           'deer', 'dog', 'frog', 'horse', 'ship', 'truck')"
   ]
  },
  {
   "cell_type": "code",
   "execution_count": 21,
   "metadata": {},
   "outputs": [
    {
     "data": {
      "image/png": "[encoded data removed]",
      "text/plain": [
       "<Figure size 432x288 with 1 Axes>"
      ]
     },
     "metadata": {
      "needs_background": "light"
     },
     "output_type": "display_data"
    }
   ],
   "source": [
    "dataiter = iter(trainLoader)\n",
    "images, labels = dataiter.next()\n",
    "imshow(torchvision.utils.make_grid(images))"
   ]
  },
  {
   "cell_type": "code",
   "execution_count": 26,
   "metadata": {},
   "outputs": [],
   "source": [
    "class Classifier(nn.Module):\n",
    "    def __init__(self):\n",
    "        super(Classifier, self).__init__()\n",
    "        self.conv1 = nn.Conv2d(3, 6, 5)\n",
    "        self.pool = nn.MaxPool2d(2, 2)\n",
    "        self.conv2 = nn.Conv2d(6, 16, 5)\n",
    "        self.fc1 = nn.Linear(16 * 5 * 5, 120)\n",
    "        self.fc2 = nn.Linear(120, 84)\n",
    "        self.fc3 = nn.Linear(84, 10)\n",
    "    def forward(self, x):\n",
    "        x = self.pool(F.relu(self.conv1(x)))\n",
    "        x = self.pool(F.relu(self.conv2(x)))\n",
    "        x = x.view(-1, 16 * 5 * 5)\n",
    "        x = F.relu(self.fc1(x))\n",
    "        x = F.relu(self.fc2(x))\n",
    "        return self.fc3(x)    \n",
    "\n",
    "cnn = Classifier()"
   ]
  },
  {
   "cell_type": "code",
   "execution_count": 30,
   "metadata": {},
   "outputs": [],
   "source": [
    "criterion = nn.CrossEntropyLoss()\n",
    "optimizer = optim.SGD(cnn.parameters(), lr=0.001, momentum=0.9)"
   ]
  },
  {
   "cell_type": "code",
   "execution_count": null,
   "metadata": {
    "scrolled": true
   },
   "outputs": [
    {
     "name": "stdout",
     "output_type": "stream",
     "text": [
      "[1, 2000] Loss : 2.19059382969141\n",
      "[1, 4000] Loss : 1.8563959476947784\n",
      "[1, 6000] Loss : 1.6852236376851797\n",
      "[1, 8000] Loss : 1.6021330240890383\n",
      "[1, 10000] Loss : 1.5649234059154988\n",
      "[1, 12000] Loss : 1.5007432157173752\n",
      "[1, 14000] Loss : 1.463917445279658\n",
      "[1, 16000] Loss : 1.442951309952885\n",
      "[2, 2000] Loss : 1.8525119209289551\n",
      "[2, 4000] Loss : 1.3630773122310638\n",
      "[2, 6000] Loss : 1.3504833813644945\n",
      "[2, 8000] Loss : 1.3240172984795644\n",
      "[2, 10000] Loss : 1.3247381995804608\n",
      "[2, 12000] Loss : 1.3082867833208294\n",
      "[2, 14000] Loss : 1.3003751199953257\n",
      "[2, 16000] Loss : 1.3226831879019738\n",
      "[3, 2000] Loss : 1.6521262570796535\n",
      "[3, 4000] Loss : 1.2488537425566464\n",
      "[3, 6000] Loss : 1.2086472082901747\n",
      "[3, 8000] Loss : 1.2119412976666353\n",
      "[3, 10000] Loss : 1.2135855188667775\n",
      "[3, 12000] Loss : 1.202691788574215\n"
     ]
    }
   ],
   "source": [
    "mean_loss = 0.0\n",
    "for epoch in [0,1,2]:\n",
    "    for i, data in enumerate(trainLoader, 0):\n",
    "        input, labels = data\n",
    "\n",
    "        optimizer.zero_grad()\n",
    "        out = cnn(input)\n",
    "        loss = criterion(out, labels)\n",
    "        loss.backward()\n",
    "        optimizer.step()\n",
    "\n",
    "        mean_loss += loss.item()\n",
    "\n",
    "        if i % 2000 == 1999:\n",
    "            print('[{}, {}] Loss : {}'.format(epoch+1, i+1, mean_loss / 2000))\n",
    "            mean_loss = 0.0"
   ]
  },
  {
   "cell_type": "markdown",
   "metadata": {},
   "source": [
    "## Testing with test dataset"
   ]
  },
  {
   "cell_type": "code",
   "execution_count": null,
   "metadata": {},
   "outputs": [],
   "source": [
    "dataiter = iter(testLoader)\n",
    "images, labels = dataiter.next()\n",
    "\n",
    "imshow(torchvision.utils.make_grid(images))\n",
    "print(' '.join(classes[labels[j]]) for j in range(4))"
   ]
  }
 ],
 "metadata": {
  "kernelspec": {
   "display_name": "Python 3",
   "language": "python",
   "name": "python3"
  },
  "language_info": {
   "codemirror_mode": {
    "name": "ipython",
    "version": 3
   },
   "file_extension": ".py",
   "mimetype": "text/x-python",
   "name": "python",
   "nbconvert_exporter": "python",
   "pygments_lexer": "ipython3",
   "version": "3.6.8"
  }
 },
 "nbformat": 4,
 "nbformat_minor": 2
}
