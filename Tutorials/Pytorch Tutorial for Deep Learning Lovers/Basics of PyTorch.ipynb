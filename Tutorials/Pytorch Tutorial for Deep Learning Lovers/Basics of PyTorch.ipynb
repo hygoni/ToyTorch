{
 "cells": [
  {
   "cell_type": "markdown",
   "metadata": {},
   "source": [
    "## 1. Matrices"
   ]
  },
  {
   "cell_type": "markdown",
   "metadata": {},
   "source": [
    "### Let's look at numpy"
   ]
  },
  {
   "cell_type": "code",
   "execution_count": 3,
   "metadata": {},
   "outputs": [
    {
     "name": "stdout",
     "output_type": "stream",
     "text": [
      "Type : <class 'numpy.ndarray'>\n",
      "Shape : (2, 3)\n",
      "[[1 2 3]\n",
      " [4 5 6]]\n"
     ]
    }
   ],
   "source": [
    "import numpy as np\n",
    "\n",
    "array = [[1,2,3], [4,5,6]]\n",
    "np_array = np.array(array)\n",
    "print('Type : {}'.format(type(np_array)))\n",
    "print('Shape : {}'.format(np_array.shape))\n",
    "print(np_array)"
   ]
  },
  {
   "cell_type": "markdown",
   "metadata": {},
   "source": [
    "## Now, look at PyTorch version of array"
   ]
  },
  {
   "cell_type": "code",
   "execution_count": 7,
   "metadata": {},
   "outputs": [
    {
     "name": "stdout",
     "output_type": "stream",
     "text": [
      "Type : torch.LongTensor\n",
      "Shape : torch.Size([2, 3])\n",
      "tensor([[1, 2, 3],\n",
      "        [4, 5, 6]])\n"
     ]
    }
   ],
   "source": [
    "import torch\n",
    "\n",
    "torch_array = torch.tensor(array)\n",
    "print('Type : {}'.format(torch_array.type()))\n",
    "print('Shape : {}'.format(torch_array.shape))\n",
    "print(torch_array)"
   ]
  },
  {
   "cell_type": "markdown",
   "metadata": {},
   "source": [
    "### Ones"
   ]
  },
  {
   "cell_type": "code",
   "execution_count": 9,
   "metadata": {},
   "outputs": [
    {
     "name": "stdout",
     "output_type": "stream",
     "text": [
      "Numpy : [1. 1. 1. 1.]\n",
      "PyTorch : tensor([1., 1., 1., 1.])\n"
     ]
    }
   ],
   "source": [
    "print('Numpy : {}'.format(np.ones(4)))\n",
    "print('PyTorch : {}'.format(torch.ones(4)))"
   ]
  },
  {
   "cell_type": "markdown",
   "metadata": {},
   "source": [
    "### Random"
   ]
  },
  {
   "cell_type": "code",
   "execution_count": 32,
   "metadata": {},
   "outputs": [
    {
     "name": "stdout",
     "output_type": "stream",
     "text": [
      "Numpy : [[0.66113388 0.04702165]\n",
      " [0.63182398 0.31228209]]\n",
      "PyTorch : tensor([[0.5210, 0.2126],\n",
      "        [0.8193, 0.3644]])\n"
     ]
    }
   ],
   "source": [
    "print('Numpy : {}'.format(np.random.rand(2, 2)))\n",
    "print('PyTorch : {}'.format(torch.rand(2, 2)))"
   ]
  },
  {
   "cell_type": "markdown",
   "metadata": {},
   "source": [
    "### Numpy to Tensor, Tensor to Numpy"
   ]
  },
  {
   "cell_type": "code",
   "execution_count": 37,
   "metadata": {},
   "outputs": [
    {
     "name": "stdout",
     "output_type": "stream",
     "text": [
      "np to tensor : tensor([1, 2, 3, 4]), torch.LongTensor\n",
      "tensor to np : [1 2 3 4] , <class 'numpy.ndarray'>\n"
     ]
    }
   ],
   "source": [
    "array = np.array([1,2,3,4])\n",
    "\n",
    "np_to_tensor = torch.from_numpy(array)\n",
    "print('np to tensor : {}, {}'.format(np_to_tensor, np_to_tensor.type()))\n",
    "\n",
    "tensor_to_np = np_to_tensor.numpy()\n",
    "print('tensor to np : {} , {}'.format(tensor_to_np, type(tensor_to_np)))"
   ]
  },
  {
   "cell_type": "markdown",
   "metadata": {},
   "source": [
    "## 2. Math"
   ]
  },
  {
   "cell_type": "markdown",
   "metadata": {},
   "source": [
    "### Creating Tensors, Resizing, Addition, Subtraction, Multification, Division, Mean, Standard Deviation"
   ]
  },
  {
   "cell_type": "code",
   "execution_count": 46,
   "metadata": {},
   "outputs": [
    {
     "name": "stdout",
     "output_type": "stream",
     "text": [
      "tensor([[1., 1.],\n",
      "        [1., 1.]])\n",
      "tensor([[2., 2.],\n",
      "        [2., 2.]])\n"
     ]
    }
   ],
   "source": [
    "#Creating Tensors\n",
    "x = torch.ones([2, 2])\n",
    "y = torch.ones([2, 2]) * 2\n",
    "\n",
    "print(x)\n",
    "print(y)"
   ]
  },
  {
   "cell_type": "code",
   "execution_count": 47,
   "metadata": {},
   "outputs": [
    {
     "name": "stdout",
     "output_type": "stream",
     "text": [
      "Resizing : tensor([[1., 1., 1., 1.]]), torch.Size([1, 4])\n"
     ]
    }
   ],
   "source": [
    "#Resizing\n",
    "print('Resizing : {}, {}'.format(x.view(1, -1), x.view(1, -1).shape))"
   ]
  },
  {
   "cell_type": "code",
   "execution_count": 52,
   "metadata": {},
   "outputs": [
    {
     "name": "stdout",
     "output_type": "stream",
     "text": [
      "tensor([[7., 7.],\n",
      "        [7., 7.]])\n",
      "tensor([[7., 7.],\n",
      "        [7., 7.]])\n",
      "tensor([[7., 7.],\n",
      "        [7., 7.]])\n",
      "tensor([[7., 7.],\n",
      "        [7., 7.]])\n"
     ]
    }
   ],
   "source": [
    "#Addition\n",
    "print(x + y)\n",
    "print(x.add(y)) #same\n",
    "print(x.add_(y)) #inplace\n",
    "print(x)"
   ]
  },
  {
   "cell_type": "code",
   "execution_count": 57,
   "metadata": {},
   "outputs": [
    {
     "name": "stdout",
     "output_type": "stream",
     "text": [
      "tensor([[1., 1.],\n",
      "        [1., 1.]])\n",
      "tensor([[1., 1.],\n",
      "        [1., 1.]])\n",
      "tensor([[1., 1.],\n",
      "        [1., 1.]])\n",
      "tensor([[1., 1.],\n",
      "        [1., 1.]])\n"
     ]
    }
   ],
   "source": [
    "#Subtraction\n",
    "print(x-y)\n",
    "print(x.sub(y))\n",
    "print(x.sub_(y)) #inplace\n",
    "print(x)"
   ]
  },
  {
   "cell_type": "code",
   "execution_count": 61,
   "metadata": {},
   "outputs": [
    {
     "name": "stdout",
     "output_type": "stream",
     "text": [
      "tensor([[2., 2.],\n",
      "        [2., 2.]])\n",
      "tensor([[2., 2.],\n",
      "        [2., 2.]])\n"
     ]
    }
   ],
   "source": [
    "#Multification\n",
    "print(x.mul(y))\n",
    "print(torch.mul(x, y))"
   ]
  },
  {
   "cell_type": "code",
   "execution_count": 63,
   "metadata": {},
   "outputs": [
    {
     "name": "stdout",
     "output_type": "stream",
     "text": [
      "tensor([[0.5000, 0.5000],\n",
      "        [0.5000, 0.5000]])\n",
      "tensor([[0.5000, 0.5000],\n",
      "        [0.5000, 0.5000]])\n"
     ]
    }
   ],
   "source": [
    "#Division\n",
    "print(x / y)\n",
    "print(x.div(y))"
   ]
  },
  {
   "cell_type": "code",
   "execution_count": 66,
   "metadata": {},
   "outputs": [
    {
     "name": "stdout",
     "output_type": "stream",
     "text": [
      "tensor(3.5000)\n",
      "tensor(3.5000)\n"
     ]
    }
   ],
   "source": [
    "grade = torch.tensor([4.5, 4.0, 3.5, 3.0, 2.5])\n",
    "print(grade.mean())\n",
    "print(torch.mean(grade))"
   ]
  },
  {
   "cell_type": "code",
   "execution_count": 68,
   "metadata": {},
   "outputs": [
    {
     "name": "stdout",
     "output_type": "stream",
     "text": [
      "tensor(0.7906)\n",
      "tensor(0.7906)\n"
     ]
    }
   ],
   "source": [
    "print(grade.std())\n",
    "print(torch.std(grade))"
   ]
  },
  {
   "cell_type": "markdown",
   "metadata": {},
   "source": [
    "## 3.Variables"
   ]
  },
  {
   "cell_type": "markdown",
   "metadata": {},
   "source": [
    "### Calculating gradients"
   ]
  },
  {
   "cell_type": "code",
   "execution_count": 95,
   "metadata": {},
   "outputs": [
    {
     "name": "stdout",
     "output_type": "stream",
     "text": [
      "tensor([2., 4.], requires_grad=True)\n",
      "y = tensor([ 4., 16.], grad_fn=<PowBackward0>)\n",
      "o = 10.0\n",
      "tensor([2., 4.])\n"
     ]
    }
   ],
   "source": [
    "from torch.autograd import Variable\n",
    "\n",
    "x = Variable(torch.Tensor([2,4]), requires_grad=True)\n",
    "print(x)\n",
    "\n",
    "y = x**2\n",
    "print('y = {}'.format(y))\n",
    "o = sum(y) / 2\n",
    "print('o = {}'.format(o))\n",
    "o.backward()\n",
    "print(x.grad)"
   ]
  }
 ],
 "metadata": {
  "kernelspec": {
   "display_name": "Python 3",
   "language": "python",
   "name": "python3"
  },
  "language_info": {
   "codemirror_mode": {
    "name": "ipython",
    "version": 3
   },
   "file_extension": ".py",
   "mimetype": "text/x-python",
   "name": "python",
   "nbconvert_exporter": "python",
   "pygments_lexer": "ipython3",
   "version": "3.6.8"
  }
 },
 "nbformat": 4,
 "nbformat_minor": 2
}
